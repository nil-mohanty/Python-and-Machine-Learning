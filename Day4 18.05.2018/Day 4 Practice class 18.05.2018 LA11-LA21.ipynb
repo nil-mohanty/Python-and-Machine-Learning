{
 "cells": [
  {
   "cell_type": "markdown",
   "metadata": {},
   "source": [
    "## DAY4 PRACTICE CLASS 18.05.2018 LA-11 TO LA-21"
   ]
  },
  {
   "cell_type": "code",
   "execution_count": 44,
   "metadata": {},
   "outputs": [
    {
     "name": "stdout",
     "output_type": "stream",
     "text": [
      "enter your position fgggg\n",
      "invalid input\n"
     ]
    }
   ],
   "source": [
    "#LA-11 Chess board checker\n",
    "#chess\n",
    "#user should enter e7 answer should be black\n",
    "\n",
    "a=input(\"enter your position \").upper()\n",
    "if(len(a)==2 and ((a[0].isalpha() and a[1] in list(range(1,11)) or (a[1].isalpha() and a[0] in list(range(1,11)))))):\n",
    "    slots={'A':1,'B':2,'C':3,'D':4,'E':5,'F':6,'G':7,'H':8,}\n",
    "    if(not a[0].isalpha()):\n",
    "        a=a[::-1]\n",
    "    if((slots[a[0]]+int(a[1]))%2==0):\n",
    "        print(\"Black Position\")\n",
    "    else:\n",
    "        print(\"White Position\")\n",
    "else:\n",
    "    print(\"invalid input\")"
   ]
  },
  {
   "cell_type": "code",
   "execution_count": 5,
   "metadata": {},
   "outputs": [
    {
     "name": "stdout",
     "output_type": "stream",
     "text": [
      "enter a word toy\n",
      " not palindrome\n",
      "\n"
     ]
    }
   ],
   "source": [
    "#LA-12\n",
    "#palindrome\n",
    "a=input(\"enter a word \").upper()\n",
    "if(a==a[::-1]):\n",
    "    print(\"palindrome\\n\")\n",
    "else:\n",
    "    print(\" not palindrome\\n\")\n"
   ]
  },
  {
   "cell_type": "code",
   "execution_count": 30,
   "metadata": {},
   "outputs": [
    {
     "name": "stdout",
     "output_type": "stream",
     "text": [
      "enter a number for factorial 0\n",
      "The factorial is 1 \n"
     ]
    }
   ],
   "source": [
    "#LA-13\n",
    "#factorial\n",
    "def fact(a):\n",
    "    mul=1\n",
    "    if(a==0):\n",
    "        return 1\n",
    "    else:\n",
    "        return a*fact(a-1)\n",
    "    \n",
    "flag=1\n",
    "a=input(\"enter a number for factorial \")\n",
    "for i in a:\n",
    "    if(i not in ['0','1','2','3','5','6','7','8','9']):\n",
    "        flag=0;\n",
    "        print(\"enter numbers only \")\n",
    "        break;\n",
    "if(flag==1):\n",
    "    print(\"The factorial is %d \"%(fact(int(a))))"
   ]
  },
  {
   "cell_type": "code",
   "execution_count": 28,
   "metadata": {},
   "outputs": [
    {
     "name": "stdout",
     "output_type": "stream",
     "text": [
      "enter the number 0\n",
      "0\n",
      "0\n",
      "0\n"
     ]
    }
   ],
   "source": [
    "#LA-14\n",
    "# conversion of decimal to binary octal hexadecimal with alpha constraints\n",
    "a=input(\"enter the number \")\n",
    "flag=1\n",
    "for i in a:\n",
    "    if(i not in ['0','1','2','3','5','6','7','8','9']):\n",
    "        flag=0;\n",
    "        print(\"enter numbers only \")\n",
    "        break;\n",
    "if(flag==1):\n",
    "    a=int(a)\n",
    "def binconv(a):\n",
    "    binstr=\"\"\n",
    "    if(a==0):\n",
    "        binstr=\"0\"\n",
    "    while(a>0):\n",
    "        binstr=binstr+str(a%2)\n",
    "        a=a//2\n",
    "    binstr=binstr[::-1]\n",
    "    print(binstr)\n",
    "def octconv(a):\n",
    "    octstr=\"\"\n",
    "    if(a==0):\n",
    "        octstr=\"0\"\n",
    "    \n",
    "    while(a>0):\n",
    "        octstr=octstr+str(a%8)\n",
    "        a=a//8\n",
    "    octstr=octstr[::-1]\n",
    "    print(octstr)\n",
    "\n",
    "def hexconv(a):\n",
    "    hexstr=\"\"\n",
    "    symtable={10:'A',11:'B',12:'C',13:'D',14:'E',15:'F'}\n",
    "    if(a==0):\n",
    "        hexstr=\"0\"\n",
    "    \n",
    "    while(a>0):\n",
    "        if(a%16<=9):\n",
    "            hexstr=hexstr+str(a%16)\n",
    "        else:\n",
    "            hexstr=hexstr+symtable[a%16]\n",
    "        a=a//16\n",
    "    hexstr=hexstr[::-1]\n",
    "    print(hexstr)\n",
    "    \n",
    "binconv(a)\n",
    "octconv(a)\n",
    "hexconv(a)"
   ]
  },
  {
   "cell_type": "code",
   "execution_count": 16,
   "metadata": {},
   "outputs": [
    {
     "name": "stdout",
     "output_type": "stream",
     "text": [
      "enter the number10\n",
      "1010\n",
      "12\n",
      "A\n"
     ]
    }
   ],
   "source": [
    "#LA-14\n",
    "# conversion of decimal to binary octal hexadecimal\n",
    "a=int(input(\"enter the number\"))\n",
    "\n",
    "def binconv(a):\n",
    "    binstr=\"\"\n",
    "    while(a>0):\n",
    "        binstr=binstr+str(a%2)\n",
    "        a=a//2\n",
    "    binstr=binstr[::-1]\n",
    "    print(binstr)\n",
    "def octconv(a):\n",
    "    octstr=\"\"\n",
    "    while(a>0):\n",
    "        octstr=octstr+str(a%8)\n",
    "        a=a//8\n",
    "    octstr=octstr[::-1]\n",
    "    print(octstr)\n",
    "\n",
    "def hexconv(a):\n",
    "    hexstr=\"\"\n",
    "    symtable={10:'A',11:'B',12:'C',13:'D',14:'E',15:'F'}\n",
    "    while(a>0):\n",
    "        if(a%16<=9):\n",
    "            hexstr=hexstr+str(a%16)\n",
    "        else:\n",
    "            hexstr=hexstr+symtable[a%16]\n",
    "        a=a//16\n",
    "    hexstr=hexstr[::-1]\n",
    "    print(hexstr)\n",
    "    \n",
    "binconv(a)\n",
    "octconv(a)\n",
    "hexconv(a)"
   ]
  },
  {
   "cell_type": "code",
   "execution_count": 23,
   "metadata": {},
   "outputs": [
    {
     "name": "stdout",
     "output_type": "stream",
     "text": [
      "enter the number 15\n",
      "1 1\n",
      "2 8\n",
      "3 27\n",
      "4 64\n",
      "5 125\n",
      "6 216\n",
      "7 343\n",
      "8 512\n",
      "9 729\n",
      "10 1000\n",
      "11 1331\n",
      "12 1728\n",
      "13 2197\n",
      "14 2744\n",
      "15 3375\n"
     ]
    }
   ],
   "source": [
    "#LA-15\n",
    "#cube dictionary\n",
    "a=input(\"enter the number \")\n",
    "flag=1\n",
    "for i in a:\n",
    "    if(i not in ['0','1','2','3','5','6','7','8','9']):\n",
    "        flag=0;\n",
    "        print(\"enter numbers only \")\n",
    "        break;\n",
    "if(flag==1):\n",
    "    a=int(a)\n",
    "\n",
    "cubedict={}\n",
    "for i in range(1,a+1):\n",
    "    cubedict[i]=i**3\n",
    "for key in cubedict:\n",
    "    print(key, cubedict[key])"
   ]
  },
  {
   "cell_type": "code",
   "execution_count": 68,
   "metadata": {},
   "outputs": [
    {
     "name": "stdout",
     "output_type": "stream",
     "text": [
      "how many names do you want to enter 3\n",
      "enter the name and enter the phone number by a space nil 4848\n",
      "enter the name and enter the phone number by a space hdhfd 44\n",
      "enter the name and enter the phone number by a space kjsbfjhf 4464\n",
      "enter the phone 4848\n",
      "The number of nil is 4848 \n"
     ]
    }
   ],
   "source": [
    "#LA-16\n",
    "#Phonebook\n",
    "count=int(input(\"how many names do you want to enter \"))\n",
    "phonebook={}\n",
    "for i in range(count):\n",
    "    person=input(\"enter the name and enter the phone number by a space \").lower().split()\n",
    "    phonebook[person[0]]=person[-1]\n",
    "#phonebook={\"teja\":780,\"amit\":755,\"annu\":405,\"kalpana\":809,\"nanda\":455,\"sankar\":588,\"brad\":789,\"john\":102}\n",
    "choice=input(\"enter the phone \").lower()\n",
    "if(choice in phonebook.values()):\n",
    "    for key in phonebook:\n",
    "        if(phonebook[key]==choice):\n",
    "            #print(\"The number of %s is %d \"%(choice,phonebook[choice.lower()]))\n",
    "            print(\"The number of %s is %d \"%(key,int(choice)))\n",
    "else:\n",
    "    print(\"Number not found\")"
   ]
  },
  {
   "cell_type": "code",
   "execution_count": 78,
   "metadata": {},
   "outputs": [
    {
     "name": "stdout",
     "output_type": "stream",
     "text": [
      "Try ur guess number 1 8\n",
      "Your guess is close.!! Retry!! More 2 chances left\n",
      "Try ur guess number 2 3\n",
      "Your guess is close.!! This is your last chance\n",
      "Try ur guess number 3 1\n",
      "Game Over!!\n",
      "Sorry you have lost, the number was 6 \n"
     ]
    }
   ],
   "source": [
    "#LA-17\n",
    "# number guessing \n",
    "import random\n",
    "sysnum=random.randint(0,10)\n",
    "flag=0\n",
    "for i in range(3):\n",
    "    usernum=int(input(\"Try ur guess number %d \"%(i+1)))\n",
    "    if(usernum==sysnum):\n",
    "        print(\"Congrats you won!! the number was %d \"%(sysnum))\n",
    "        flag=1\n",
    "        break;\n",
    "    elif(abs(usernum-sysnum)>3):\n",
    "        if(i==2):\n",
    "            print(\"Game Over!!\")\n",
    "            break;\n",
    "        print(\"Your guess is far.!!\",end=\" \")\n",
    "        if(i==1):\n",
    "            print(\"This is your last chance\")\n",
    "        else:\n",
    "            print(\"Retry!! More %d chances left\"%(2-i))\n",
    "    else:\n",
    "        if(i==2):\n",
    "            print(\"Game Over!!\")\n",
    "            break;\n",
    "        print(\"Your guess is close.!!\",end=\" \")\n",
    "        if(i==1):\n",
    "            print(\"This is your last chance\")\n",
    "        else:\n",
    "            print(\"Retry!! More %d chances left\"%(2-i))\n",
    "if(flag==0):\n",
    "    print(\"Sorry you have lost, the number was %d \"%sysnum)\n",
    "    \n",
    "    "
   ]
  },
  {
   "cell_type": "code",
   "execution_count": 94,
   "metadata": {},
   "outputs": [
    {
     "name": "stdout",
     "output_type": "stream",
     "text": [
      "Please enter your name Nila\n",
      "please set your passwordhj@hgh2\n",
      "capital letter not found\n"
     ]
    }
   ],
   "source": [
    "#LA-18\n",
    "#password\n",
    "digits=list(range(48,58))\n",
    "spltable=list(range(33,48))+list(range(58,65))+list(range(91,97))+list(range(123,127))\n",
    "upper=list(range(65,91))\n",
    "lower=list(range(97,123))\n",
    "userlist=[\"Nila\",\"Teja\",\"Amit\",\"Annu\",\"Kalpana\"]\n",
    "dig=0\n",
    "caps=0\n",
    "low=0\n",
    "spl=0\n",
    "user=input(\"Please enter your name \")\n",
    "if(user in userlist):\n",
    "    pwd=input(\"please set your password\")\n",
    "    if(len(pwd)<6):\n",
    "        print(\"Too short.Pwd should be of length 6-12\")\n",
    "    if(len(pwd)>12):\n",
    "        print(\"Too long.Pwd should be of length 6-12\")\n",
    "    for i in list(pwd):\n",
    "        if(ord(i) in digits):\n",
    "            dig=1\n",
    "        elif(ord(i) in spltable):\n",
    "            spl=1\n",
    "        elif(ord(i) in lower):\n",
    "            low=1\n",
    "        elif(ord(i) in upper):\n",
    "            caps=1\n",
    "    if(dig and caps and low and spl):\n",
    "        print(\"Good password\")\n",
    "    else:\n",
    "        if(dig==0):\n",
    "            print(\"Digits not found\")\n",
    "        elif(spl==0):\n",
    "            print(\"Spl not found\")\n",
    "        elif(low==0):\n",
    "            print(\"lowercase not found\")\n",
    "        elif(caps==0):\n",
    "            print(\"capital letter not found\")\n",
    "\n",
    "else:\n",
    "    print(\"Sorry you are not in the user list.\")"
   ]
  },
  {
   "cell_type": "code",
   "execution_count": 93,
   "metadata": {},
   "outputs": [
    {
     "name": "stdout",
     "output_type": "stream",
     "text": [
      "[48, 49, 50, 51, 52, 53, 54, 55, 56, 57]\n",
      "[33, 34, 35, 36, 37, 38, 39, 40, 41, 42, 43, 44, 45, 46, 47, 58, 59, 60, 61, 62, 63, 64, 91, 92, 93, 94, 95, 96, 123, 124, 125, 126]\n",
      "[65, 66, 67, 68, 69, 70, 71, 72, 73, 74, 75, 76, 77, 78, 79, 80, 81, 82, 83, 84, 85, 86, 87, 88, 89, 90]\n",
      "[97, 98, 99, 100, 101, 102, 103, 104, 105, 106, 107, 108, 109, 110, 111, 112, 113, 114, 115, 116, 117, 118, 119, 120, 121, 122]\n"
     ]
    }
   ],
   "source": [
    "digits=list(range(48,58))\n",
    "print(digits)\n",
    "\n",
    "spl=list(range(33,48))+list(range(58,65))+list(range(91,97))+list(range(123,127))\n",
    "print(spl)\n",
    "upper=list(range(65,91))\n",
    "print(upper)\n",
    "\n",
    "lower=list(range(97,123))\n",
    "print(lower)"
   ]
  },
  {
   "cell_type": "code",
   "execution_count": 2,
   "metadata": {},
   "outputs": [
    {
     "name": "stdout",
     "output_type": "stream",
     "text": [
      "enter your matrix 1 by spaces among elements and ; when going to next row\n",
      "1 2 3 4 5;6 7 8 9 1;2 3 4 5 6;7 8 9 0 1\n",
      "enter your matrix 2 by spaces among elements and ; when going to next row\n",
      "1 2 3 4;5 6 7 8;9 0 1 2;3 4 5 6;7 8 9 0\n",
      "[[85, 70, 85, 50], [147, 98, 129, 150], [110, 90, 110, 70], [135, 70, 95, 110]]\n"
     ]
    }
   ],
   "source": [
    "#LA-19 Matrix Multiplication\n",
    "# Matrix multiplication \n",
    "mat1=input(\"enter your matrix 1 by spaces among elements and ; when going to next row\\n\").split(';')\n",
    "len1=0;len2=0\n",
    "flag1=True;flag2=True\n",
    "for i in range(len(mat1)):\n",
    "    #print(type(mat1[i]))\n",
    "    mat1[i]=list(mat1[i].split())\n",
    "    len1=len(mat1[0])\n",
    "    if(len1!=len(mat1[i])):\n",
    "        flag1=False\n",
    "        print(\"Matrix 1's elements are properly not entered\")\n",
    "        break;\n",
    "if(flag1):\n",
    "    mat2=input(\"enter your matrix 2 by spaces among elements and ; when going to next row\\n\").split(';')\n",
    "    for i in range(len(mat2)):\n",
    "        mat2[i]=list(mat2[i].split())\n",
    "        len2=len(mat2[0])\n",
    "        if(len2!=len(mat2[i])):\n",
    "            flag2=False\n",
    "            print(\"Matrix 2's elements are properly not entered\")\n",
    "            break;\n",
    "mat3=[]\n",
    "#check for validity of mat1 and mat2\n",
    "\n",
    "#print(mat1,mat2)\n",
    "#print(mat1,mat2)\n",
    "if(flag1 and flag2):\n",
    "    if(len(mat1)==len(mat2[0])): #trave\n",
    "        for i in range(len(mat1)):\n",
    "            list1=[]\n",
    "            for j in range(len(mat2[0])):\n",
    "                total=0\n",
    "                for k in range(len(mat2)):\n",
    "                    #print(mat1[i][k],mat2[k][j],int(mat1[i][j])*int(mat2[k][j]))\n",
    "                    total=total+(int(mat1[i][k])*int(mat2[k][j]))\n",
    "                list1.append(total)\n",
    "            mat3.append(list1)\n",
    "        print(mat3)\n",
    "    else:\n",
    "        print(\"mXn is not nXk\")"
   ]
  },
  {
   "cell_type": "code",
   "execution_count": null,
   "metadata": {},
   "outputs": [],
   "source": [
    "#Rabbit Snake Chicken\n",
    "#Only case `where heads more than legs will be appeciated is only when we have more number of snakes than hens and rabbits \"combined\".\n",
    "#Legs will be even \"always\"\n",
    "#always lets go for lesser number of snakes (practically more snakes means less other animals due to venom attack)\n"
   ]
  },
  {
   "cell_type": "code",
   "execution_count": 3,
   "metadata": {},
   "outputs": [
    {
     "name": "stdout",
     "output_type": "stream",
     "text": [
      "How many items do you want to enter? 2\n",
      "Enter the name of the item hgh\n",
      "Enter the price of the above entered item 55\n",
      "Enter the name of the item bub\n",
      "Enter the price of the above entered item 45\n",
      "what is your budget?  100\n",
      "Here is the pricelist {'hgh': 55, 'bub': 45} and what you have bought is {} \n",
      "Do you wish to shop or quit? y/n  n\n",
      "You have bought {}\n",
      "Your bill is 0 \n",
      "Remaining Balance is 100\n"
     ]
    }
   ],
   "source": [
    "#LA 21-\n",
    "#Create the grocery list in dictionary of name quantity and price.\n",
    "#keep updating the list till user stops.\n",
    "#if the name matches with previous name, only quantity with price.\n",
    "#Print the list. Check if the items are within budget. Ask amount initially.\n",
    "#if not keep updating the quantity, and use negative numbers to reduce quantity\n",
    "#finally print qrocery amount and balance amount left\n",
    "items=int(input(\"How many items do you want to enter? \"))\n",
    "pricelist={}\n",
    "ownlist={}\n",
    "flag=True;key=True\n",
    "for i in range(items):\n",
    "    item=input(\"Enter the name of the item \").lower()\n",
    "    pricelist[item]=int(input(\"Enter the price of the above entered item \"))\n",
    "budget=int(input(\"what is your budget?  \"))\n",
    "bill=0\n",
    "while(flag):\n",
    "    print(\"Here is the pricelist {0} and what you have bought is {1} \".format(pricelist,ownlist))\n",
    "    #print(\"Here is your own list \",ownlist)\n",
    "    if(budget>=bill):\n",
    "        choice=input(\"Do you wish to shop or quit? y/n  \")\n",
    "    else:\n",
    "        choice='y'\n",
    "    if(choice.lower()=='y'):\n",
    "        if(budget>bill):\n",
    "            buy=input(\"What do you want to buy? \").lower()\n",
    "        if(budget<=bill):\n",
    "            buy=input(\"Your balance is over.What do you want to deduct? give the quantity in minus  \").lower()\n",
    "        if buy in pricelist:\n",
    "            buyQuant=int(input(\"in what quantity? \"))\n",
    "            if buy in ownlist:\n",
    "                key=True\n",
    "                ownlist[buy]=ownlist[buy]+buyQuant\n",
    "            else:\n",
    "                if(budget<bill):\n",
    "                    print(\"Item not found \")\n",
    "                    key=False\n",
    "                else:\n",
    "                    key=True\n",
    "                    ownlist[buy]=buyQuant\n",
    "            if(key):\n",
    "                bill=bill+(buyQuant*pricelist[buy])\n",
    "            print(\"Your bill untill now is {0} and your balance is {1}\".format(bill,(budget-bill)))\n",
    "            \n",
    "            \n",
    "        else:\n",
    "            print(\"sorry this item is not available\")\n",
    "    else:\n",
    "        print(\"You have bought {2}\\nYour bill is {0} \\nRemaining Balance is {1}\".format(bill,budget,ownlist))\n",
    "        flag=False"
   ]
  },
  {
   "cell_type": "code",
   "execution_count": null,
   "metadata": {},
   "outputs": [],
   "source": []
  },
  {
   "cell_type": "code",
   "execution_count": null,
   "metadata": {},
   "outputs": [],
   "source": []
  }
 ],
 "metadata": {
  "kernelspec": {
   "display_name": "Python 3",
   "language": "python",
   "name": "python3"
  },
  "language_info": {
   "codemirror_mode": {
    "name": "ipython",
    "version": 3
   },
   "file_extension": ".py",
   "mimetype": "text/x-python",
   "name": "python",
   "nbconvert_exporter": "python",
   "pygments_lexer": "ipython3",
   "version": "3.6.4"
  }
 },
 "nbformat": 4,
 "nbformat_minor": 2
}
