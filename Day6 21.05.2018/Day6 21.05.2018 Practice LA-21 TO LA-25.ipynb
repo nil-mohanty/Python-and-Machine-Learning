{
 "cells": [
  {
   "cell_type": "markdown",
   "metadata": {},
   "source": [
    "## Day6 21.05.2018 Practice Session LA21-LA25\n"
   ]
  },
  {
   "cell_type": "code",
   "execution_count": 1,
   "metadata": {},
   "outputs": [
    {
     "name": "stdout",
     "output_type": "stream",
     "text": [
      "Enter Name Roll CollegeNil 12 iter\n",
      " Nil\n",
      "\n",
      " 12\n",
      "\n",
      " iter\n",
      "\n"
     ]
    }
   ],
   "source": [
    "#HA Extra \n",
    "a,b,c=input(\"Enter Name Roll College\").split()\n",
    "fo=open(\"readline.txt\",\"w\")\n",
    "fo.write(\"First Name: {0}\\nRoll: {1}\\nCollege: {2}\\n\".format(a,b,c))\n",
    "fo.close()\n",
    "f1=open(\"readline.txt\",\"r\")\n",
    "list1=f1.readlines()\n",
    "for i in list1:\n",
    "    print(i.split(\":\")[1])\n"
   ]
  },
  {
   "cell_type": "code",
   "execution_count": 16,
   "metadata": {},
   "outputs": [
    {
     "name": "stdout",
     "output_type": "stream",
     "text": [
      "[1, 2, 3, 5, 7, 11, 13, 17, 19, 23, 29, 31, 37, 41, 43, 47, 53, 59, 61, 67, 71, 73, 79, 83, 89, 97]\n",
      "[1, 2, 3, 5, 7, 11, 13, 17, 19, 23, 29, 31, 37, 41, 43, 47, 53, 59, 61, 67, 71, 73, 79, 83, 89, 97]\n",
      "[1, 2, 3, 5, 7, 11, 13, 17, 19, 23, 29, 31, 37, 41, 43, 47, 53, 59, 61, 67, 71, 73, 79, 83, 89, 97]\n"
     ]
    }
   ],
   "source": [
    "#LA 21\n",
    "#you can use all\n",
    "#list1=[i for i in range(1,101) if all(i%x!=0 for x in range(2,int(i**0.5)+1))]\n",
    "\n",
    "list1=[i for i in range(1,101) for x in range(2,int(i**0.5)+1) if(i%x==0)]\n",
    "list2=[j for j in range(1,101) if j not in list1]\n",
    "print(list2)\n",
    "\n",
    "def prime(i):\n",
    "    flag=True\n",
    "    for j in range(2,int(i**0.5)+1):\n",
    "        if(i%j==0):\n",
    "            flag=False\n",
    "            break;\n",
    "    if(flag):\n",
    "        return True\n",
    "list3=[i for i in range(1,101) if(prime(i))]\n",
    "print(list3) \n",
    "\n",
    "list4=[i for i in range(1,101) if 0 not in [i%y for y in range(2,int(i**0.5)+1)]]\n",
    "print(list4)\n",
    "\n"
   ]
  },
  {
   "cell_type": "code",
   "execution_count": 7,
   "metadata": {},
   "outputs": [
    {
     "name": "stdout",
     "output_type": "stream",
     "text": [
      "[1, 2, 3, 5, 7, 11, 13, 17, 19, 23, 29, 31, 37, 41, 43, 47, 53, 59, 61, 67, 71, 73, 79, 83, 89, 97]\n"
     ]
    }
   ],
   "source": [
    "#LA 21 Not Final \n",
    "#Prime numbers using List Comprehension. FInd prime no.s between 1 to 100 \n",
    "#prime=[i for i in range(1,101) if()]\n",
    "list1=[]\n",
    "for i in range(1,101):\n",
    "    flag=True\n",
    "    for j in range(2,int(i**0.5)+1):\n",
    "        if(i%j==0):\n",
    "            flag=False\n",
    "            break;\n",
    "    if(flag):\n",
    "        list1.append(i)\n",
    "print(list1)"
   ]
  },
  {
   "cell_type": "code",
   "execution_count": 12,
   "metadata": {},
   "outputs": [
    {
     "name": "stdout",
     "output_type": "stream",
     "text": [
      "['..apple..', 'this', 'is', 'an', 'apples', 'apple', 'is', 'red', 'in', 'colour', 'apple.', 'is', 'a', 'fruit.', '-apple', 'is', 'a', 'fruit']\n",
      "apple\n",
      "apple.\n",
      "2\n"
     ]
    }
   ],
   "source": [
    "#LA22\n",
    "#hello this is an apple.an apple a day keeps an apple doctor away\n",
    "#fo=open(\"lotOfWords.txt\",\"w\")\n",
    "#fo.write(input(\"enter your sentences \"))\n",
    "#fo.close()\n",
    "fo=open(\"lotOfWords.txt\",\"r\")\n",
    "count=0\n",
    "checkList=[\"apple\",\"apple.\",\"apple,\",\".apple\"]\n",
    "str1=fo.read().split()\n",
    "print(str1)\n",
    "for i in str1:\n",
    "    #if \"apple\" in i:\n",
    "    if (i in checkList):\n",
    "        count+=1\n",
    "        print(i)\n",
    "print(count)"
   ]
  },
  {
   "cell_type": "code",
   "execution_count": 3,
   "metadata": {},
   "outputs": [
    {
     "name": "stdout",
     "output_type": "stream",
     "text": [
      "How many numbers do you want to compute 4\n",
      "Enter the 1 th number 1\n",
      "1.0\n",
      "Enter the 2 th number 0\n",
      "Zero inverse cant be found\n",
      "Enter the 2 th number 3\n",
      "1.3333333333333333\n",
      "Enter the 3 th number 2\n",
      "1.8333333333333333\n",
      "Enter the 4 th number 0\n",
      "Zero inverse cant be found\n",
      "Enter the 4 th number 0\n",
      "Zero inverse cant be found\n",
      "Enter the 4 th number 0\n",
      "Zero inverse cant be found\n",
      "Enter the 4 th number 4\n",
      "2.083333333333333\n"
     ]
    }
   ],
   "source": [
    "#LA 23 (Inverse of a numbers in a list, take it in a list and add the inverses and store the sum)\n",
    "list1=[]\n",
    "list2=[]\n",
    "#print(list1)\n",
    "#choice=input(\"Do you wish to calculate? press y for yes and any other key for no. \")\n",
    "times=int(input(\"How many numbers do you want to compute \"))\n",
    "i=0\n",
    "sum1=0\n",
    "while(i<times):\n",
    "    num1=float(input(\"Enter the {0} th number \".format(i+1)))\n",
    "    try:\n",
    "        sum1=sum1+(1/num1)\n",
    "        i+=1\n",
    "        print(sum1)\n",
    "    except ZeroDivisionError:\n",
    "        print(\"Zero inverse cant be found\")\n",
    "        \n",
    "    #choice=input(\"Do you wish to calculate? press y for yes and any other key for no. \")\n",
    "    #list2=[]\n",
    "    "
   ]
  },
  {
   "cell_type": "code",
   "execution_count": 1,
   "metadata": {},
   "outputs": [
    {
     "name": "stdout",
     "output_type": "stream",
     "text": [
      "Do you wish to calculate? press y for yes and any other key for no. y\n",
      "Enter the list of numbers by a space 1 2 4 5\n",
      "[1.0, 0.5, 0.25, 0.2]\n",
      "1.95\n",
      "Do you wish to calculate? press y for yes and any other key for no. y\n",
      "Enter the list of numbers by a space 0\n",
      "Zero inverse cant be found\n",
      "Do you wish to calculate? press y for yes and any other key for no. y\n",
      "Enter the list of numbers by a space 1 0 2\n",
      "Zero inverse cant be found\n"
     ]
    },
    {
     "ename": "KeyboardInterrupt",
     "evalue": "",
     "output_type": "error",
     "traceback": [
      "\u001b[0;31m---------------------------------------------------------------------------\u001b[0m",
      "\u001b[0;31mKeyboardInterrupt\u001b[0m                         Traceback (most recent call last)",
      "\u001b[0;32m/usr/local/lib/python3.6/dist-packages/ipykernel/kernelbase.py\u001b[0m in \u001b[0;36m_input_request\u001b[0;34m(self, prompt, ident, parent, password)\u001b[0m\n\u001b[1;32m    728\u001b[0m             \u001b[0;32mtry\u001b[0m\u001b[0;34m:\u001b[0m\u001b[0;34m\u001b[0m\u001b[0m\n\u001b[0;32m--> 729\u001b[0;31m                 \u001b[0mident\u001b[0m\u001b[0;34m,\u001b[0m \u001b[0mreply\u001b[0m \u001b[0;34m=\u001b[0m \u001b[0mself\u001b[0m\u001b[0;34m.\u001b[0m\u001b[0msession\u001b[0m\u001b[0;34m.\u001b[0m\u001b[0mrecv\u001b[0m\u001b[0;34m(\u001b[0m\u001b[0mself\u001b[0m\u001b[0;34m.\u001b[0m\u001b[0mstdin_socket\u001b[0m\u001b[0;34m,\u001b[0m \u001b[0;36m0\u001b[0m\u001b[0;34m)\u001b[0m\u001b[0;34m\u001b[0m\u001b[0m\n\u001b[0m\u001b[1;32m    730\u001b[0m             \u001b[0;32mexcept\u001b[0m \u001b[0mException\u001b[0m\u001b[0;34m:\u001b[0m\u001b[0;34m\u001b[0m\u001b[0m\n",
      "\u001b[0;32m/usr/local/lib/python3.6/dist-packages/jupyter_client/session.py\u001b[0m in \u001b[0;36mrecv\u001b[0;34m(self, socket, mode, content, copy)\u001b[0m\n\u001b[1;32m    802\u001b[0m         \u001b[0;32mtry\u001b[0m\u001b[0;34m:\u001b[0m\u001b[0;34m\u001b[0m\u001b[0m\n\u001b[0;32m--> 803\u001b[0;31m             \u001b[0mmsg_list\u001b[0m \u001b[0;34m=\u001b[0m \u001b[0msocket\u001b[0m\u001b[0;34m.\u001b[0m\u001b[0mrecv_multipart\u001b[0m\u001b[0;34m(\u001b[0m\u001b[0mmode\u001b[0m\u001b[0;34m,\u001b[0m \u001b[0mcopy\u001b[0m\u001b[0;34m=\u001b[0m\u001b[0mcopy\u001b[0m\u001b[0;34m)\u001b[0m\u001b[0;34m\u001b[0m\u001b[0m\n\u001b[0m\u001b[1;32m    804\u001b[0m         \u001b[0;32mexcept\u001b[0m \u001b[0mzmq\u001b[0m\u001b[0;34m.\u001b[0m\u001b[0mZMQError\u001b[0m \u001b[0;32mas\u001b[0m \u001b[0me\u001b[0m\u001b[0;34m:\u001b[0m\u001b[0;34m\u001b[0m\u001b[0m\n",
      "\u001b[0;32m/usr/local/lib/python3.6/dist-packages/zmq/sugar/socket.py\u001b[0m in \u001b[0;36mrecv_multipart\u001b[0;34m(self, flags, copy, track)\u001b[0m\n\u001b[1;32m    465\u001b[0m         \"\"\"\n\u001b[0;32m--> 466\u001b[0;31m         \u001b[0mparts\u001b[0m \u001b[0;34m=\u001b[0m \u001b[0;34m[\u001b[0m\u001b[0mself\u001b[0m\u001b[0;34m.\u001b[0m\u001b[0mrecv\u001b[0m\u001b[0;34m(\u001b[0m\u001b[0mflags\u001b[0m\u001b[0;34m,\u001b[0m \u001b[0mcopy\u001b[0m\u001b[0;34m=\u001b[0m\u001b[0mcopy\u001b[0m\u001b[0;34m,\u001b[0m \u001b[0mtrack\u001b[0m\u001b[0;34m=\u001b[0m\u001b[0mtrack\u001b[0m\u001b[0;34m)\u001b[0m\u001b[0;34m]\u001b[0m\u001b[0;34m\u001b[0m\u001b[0m\n\u001b[0m\u001b[1;32m    467\u001b[0m         \u001b[0;31m# have first part already, only loop while more to receive\u001b[0m\u001b[0;34m\u001b[0m\u001b[0;34m\u001b[0m\u001b[0m\n",
      "\u001b[0;32mzmq/backend/cython/socket.pyx\u001b[0m in \u001b[0;36mzmq.backend.cython.socket.Socket.recv\u001b[0;34m()\u001b[0m\n",
      "\u001b[0;32mzmq/backend/cython/socket.pyx\u001b[0m in \u001b[0;36mzmq.backend.cython.socket.Socket.recv\u001b[0;34m()\u001b[0m\n",
      "\u001b[0;32mzmq/backend/cython/socket.pyx\u001b[0m in \u001b[0;36mzmq.backend.cython.socket._recv_copy\u001b[0;34m()\u001b[0m\n",
      "\u001b[0;32m/usr/local/lib/python3.6/dist-packages/zmq/backend/cython/checkrc.pxd\u001b[0m in \u001b[0;36mzmq.backend.cython.checkrc._check_rc\u001b[0;34m()\u001b[0m\n",
      "\u001b[0;31mKeyboardInterrupt\u001b[0m: ",
      "\nDuring handling of the above exception, another exception occurred:\n",
      "\u001b[0;31mKeyboardInterrupt\u001b[0m                         Traceback (most recent call last)",
      "\u001b[0;32m<ipython-input-1-e6f3a1946711>\u001b[0m in \u001b[0;36m<module>\u001b[0;34m()\u001b[0m\n\u001b[1;32m     14\u001b[0m     \u001b[0;32mexcept\u001b[0m \u001b[0mZeroDivisionError\u001b[0m\u001b[0;34m:\u001b[0m\u001b[0;34m\u001b[0m\u001b[0m\n\u001b[1;32m     15\u001b[0m         \u001b[0mprint\u001b[0m\u001b[0;34m(\u001b[0m\u001b[0;34m\"Zero inverse cant be found\"\u001b[0m\u001b[0;34m)\u001b[0m\u001b[0;34m\u001b[0m\u001b[0m\n\u001b[0;32m---> 16\u001b[0;31m     \u001b[0mchoice\u001b[0m\u001b[0;34m=\u001b[0m\u001b[0minput\u001b[0m\u001b[0;34m(\u001b[0m\u001b[0;34m\"Do you wish to calculate? press y for yes and any other key for no. \"\u001b[0m\u001b[0;34m)\u001b[0m\u001b[0;34m\u001b[0m\u001b[0m\n\u001b[0m\u001b[1;32m     17\u001b[0m     \u001b[0mlist2\u001b[0m\u001b[0;34m=\u001b[0m\u001b[0;34m[\u001b[0m\u001b[0;34m]\u001b[0m\u001b[0;34m\u001b[0m\u001b[0m\n\u001b[1;32m     18\u001b[0m \u001b[0;34m\u001b[0m\u001b[0m\n",
      "\u001b[0;32m/usr/local/lib/python3.6/dist-packages/ipykernel/kernelbase.py\u001b[0m in \u001b[0;36mraw_input\u001b[0;34m(self, prompt)\u001b[0m\n\u001b[1;32m    702\u001b[0m             \u001b[0mself\u001b[0m\u001b[0;34m.\u001b[0m\u001b[0m_parent_ident\u001b[0m\u001b[0;34m,\u001b[0m\u001b[0;34m\u001b[0m\u001b[0m\n\u001b[1;32m    703\u001b[0m             \u001b[0mself\u001b[0m\u001b[0;34m.\u001b[0m\u001b[0m_parent_header\u001b[0m\u001b[0;34m,\u001b[0m\u001b[0;34m\u001b[0m\u001b[0m\n\u001b[0;32m--> 704\u001b[0;31m             \u001b[0mpassword\u001b[0m\u001b[0;34m=\u001b[0m\u001b[0;32mFalse\u001b[0m\u001b[0;34m,\u001b[0m\u001b[0;34m\u001b[0m\u001b[0m\n\u001b[0m\u001b[1;32m    705\u001b[0m         )\n\u001b[1;32m    706\u001b[0m \u001b[0;34m\u001b[0m\u001b[0m\n",
      "\u001b[0;32m/usr/local/lib/python3.6/dist-packages/ipykernel/kernelbase.py\u001b[0m in \u001b[0;36m_input_request\u001b[0;34m(self, prompt, ident, parent, password)\u001b[0m\n\u001b[1;32m    732\u001b[0m             \u001b[0;32mexcept\u001b[0m \u001b[0mKeyboardInterrupt\u001b[0m\u001b[0;34m:\u001b[0m\u001b[0;34m\u001b[0m\u001b[0m\n\u001b[1;32m    733\u001b[0m                 \u001b[0;31m# re-raise KeyboardInterrupt, to truncate traceback\u001b[0m\u001b[0;34m\u001b[0m\u001b[0;34m\u001b[0m\u001b[0m\n\u001b[0;32m--> 734\u001b[0;31m                 \u001b[0;32mraise\u001b[0m \u001b[0mKeyboardInterrupt\u001b[0m\u001b[0;34m\u001b[0m\u001b[0m\n\u001b[0m\u001b[1;32m    735\u001b[0m             \u001b[0;32melse\u001b[0m\u001b[0;34m:\u001b[0m\u001b[0;34m\u001b[0m\u001b[0m\n\u001b[1;32m    736\u001b[0m                 \u001b[0;32mbreak\u001b[0m\u001b[0;34m\u001b[0m\u001b[0m\n",
      "\u001b[0;31mKeyboardInterrupt\u001b[0m: "
     ]
    }
   ],
   "source": [
    "#Not Final 23\n",
    "#LA 23 (Inverse of a numbers in a list, take it in a list and add the inverses and store the sum)\n",
    "list1=[]\n",
    "list2=[]\n",
    "#print(list1)\n",
    "choice=input(\"Do you wish to calculate? press y for yes and any other key for no. \")\n",
    "while(choice.lower()=='y'):\n",
    "    list1=list(map(float,input(\"Enter the list of numbers by a space \").split()))\n",
    "    try:\n",
    "        for i in list1:\n",
    "            #print(i,i/3)\n",
    "            list2.append(round(1/i,3))\n",
    "        print(list2)\n",
    "        print(sum(list2))\n",
    "    except ZeroDivisionError:\n",
    "        print(\"Zero inverse cant be found\")\n",
    "    choice=input(\"Do you wish to calculate? press y for yes and any other key for no. \")\n",
    "    list2=[]\n",
    "    "
   ]
  },
  {
   "cell_type": "code",
   "execution_count": null,
   "metadata": {},
   "outputs": [],
   "source": [
    "#LA 24 Certificate \n",
    "try:\n",
    "    cert=open(\"certificate.txt\",\"r\")\n",
    "    template=cert.read()\n",
    "    try:\n",
    "        stu=open(\"studentlist.txt\",\"r\")\n",
    "        stu_list=stu.readlines()\n",
    "        print(\"student list is \",stu_list)\n",
    "        for student in stu_list:\n",
    "            student=student.split()\n",
    "            if(int(student[2])==10 and float(student[3])>=40.0):\n",
    "                print(student)\n",
    "                text=\"\"\n",
    "                copy=open(\"{0}.txt\".format(student[1]),\"w\")\n",
    "                #print(copy)\n",
    "                text=template\n",
    "                #print(text)\n",
    "                text=text.replace(\"NAME\",student[0])\n",
    "                text=text.replace(\"ROLL\",student[1])\n",
    "                text=text.replace(\"CLASS\",student[2])\n",
    "                text=text.replace(\"PERCENTAGE\",student[3])\n",
    "                #print(text)\n",
    "                copy.write(text)\n",
    "                copy.close()\n",
    "\n",
    "        cert.close()\n",
    "        stu.close()\n",
    "    except FileNotFoundError:\n",
    "        print(\"Student List file not found\");\n",
    "except FileNotFoundError:\n",
    "    print(\"Certificate file not found\");"
   ]
  },
  {
   "cell_type": "code",
   "execution_count": 17,
   "metadata": {},
   "outputs": [
    {
     "name": "stdout",
     "output_type": "stream",
     "text": [
      "Tell the order 2\n",
      "[[1, 0], [0, 1]]\n"
     ]
    }
   ],
   "source": [
    "#LA-25 Final\n",
    "n=int(input(\"Tell the order \"))\n",
    "#list1=[list2 for i in range(a) for j in range(a) if(i==j) list2.append(1) else list2.append(0)]\n",
    "list1=[[1 if i==j else 0 for j in range(n)] for i in range(n)]\n",
    "print(list1)"
   ]
  },
  {
   "cell_type": "code",
   "execution_count": 14,
   "metadata": {},
   "outputs": [
    {
     "name": "stdout",
     "output_type": "stream",
     "text": [
      "Tell the order 3\n",
      "[[1, 0, 0], [0, 1, 0], [0, 0, 1]]\n"
     ]
    }
   ],
   "source": [
    "#LA 25 Identity matrix createion using list comprehension\n",
    "\n",
    "a=int(input(\"Tell the order \"))\n",
    "list1=[]\n",
    "list2=[]\n",
    "for i in range(a):\n",
    "    for j in range(a):\n",
    "        if(i==j):\n",
    "            list2.append(1)\n",
    "        else:\n",
    "            list2.append(0)\n",
    "    list1.append(list2)\n",
    "    list2=[]\n",
    "    \n",
    "print(list1)\n",
    "#list1[i for i in range(a) for j in range(a) if(i==j) i[j]=1 else i[j]=0]\n",
    "#print(list1)"
   ]
  },
  {
   "cell_type": "code",
   "execution_count": 5,
   "metadata": {},
   "outputs": [
    {
     "name": "stdout",
     "output_type": "stream",
     "text": [
      "{'abc': 23, 'def': 45}\n"
     ]
    }
   ],
   "source": []
  },
  {
   "cell_type": "code",
   "execution_count": null,
   "metadata": {},
   "outputs": [],
   "source": []
  }
 ],
 "metadata": {
  "kernelspec": {
   "display_name": "Python 3",
   "language": "python",
   "name": "python3"
  },
  "language_info": {
   "codemirror_mode": {
    "name": "ipython",
    "version": 3
   },
   "file_extension": ".py",
   "mimetype": "text/x-python",
   "name": "python",
   "nbconvert_exporter": "python",
   "pygments_lexer": "ipython3",
   "version": "3.6.4"
  }
 },
 "nbformat": 4,
 "nbformat_minor": 2
}
