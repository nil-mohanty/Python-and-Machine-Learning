{
 "cells": [
  {
   "cell_type": "markdown",
   "metadata": {},
   "source": [
    "## Day 5 Theory\n",
    "### -list comprehension\n",
    "### -map\n",
    "### -lambda\n",
    "### -file i/O\n",
    "### -error handling"
   ]
  },
  {
   "cell_type": "code",
   "execution_count": 2,
   "metadata": {},
   "outputs": [
    {
     "name": "stdout",
     "output_type": "stream",
     "text": [
      "[1, 4, 9, 16, 25, 36, 49, 64, 81, 100]\n"
     ]
    }
   ],
   "source": [
    "#write a function to create a list that contains the squares of all numbers from 1 to 9\n",
    "\n",
    "def square(a=9):\n",
    "    list1=[]\n",
    "    for i in range(1,a+1):\n",
    "        list1.append(i**2)\n",
    "    print(list1)\n",
    "    \n",
    "square(10)"
   ]
  },
  {
   "cell_type": "code",
   "execution_count": 4,
   "metadata": {},
   "outputs": [
    {
     "name": "stdout",
     "output_type": "stream",
     "text": [
      "[1, 4, 9, 16, 25, 36, 49, 64, 81]\n"
     ]
    }
   ],
   "source": [
    "#the above code in single line\n",
    "\n",
    "def square():\n",
    "    list1=[x**2 for x in range(1,10)]\n",
    "    print(list1)\n",
    "square()"
   ]
  },
  {
   "cell_type": "code",
   "execution_count": 5,
   "metadata": {},
   "outputs": [
    {
     "name": "stdout",
     "output_type": "stream",
     "text": [
      "[(1, 3), (1, 4), (2, 3), (2, 1), (2, 4), (3, 1), (3, 4)]\n"
     ]
    }
   ],
   "source": [
    "list1=[(x,y) for x in [1,2,3] for y in [3,1,4] if x!=y]\n",
    "print(list1)"
   ]
  },
  {
   "cell_type": "code",
   "execution_count": 8,
   "metadata": {},
   "outputs": [
    {
     "name": "stdout",
     "output_type": "stream",
     "text": [
      "[1, 3, 5, 7, 9]\n"
     ]
    }
   ],
   "source": [
    "#odd list\n",
    "listOdd=[x for x in range(11) if x%2!=0]\n",
    "print(listOdd)"
   ]
  },
  {
   "cell_type": "code",
   "execution_count": 10,
   "metadata": {},
   "outputs": [
    {
     "name": "stdout",
     "output_type": "stream",
     "text": [
      "enter your sentence this is a list of words\n",
      "['t', 'i', 'a', 'l', 'o', 'w']\n"
     ]
    }
   ],
   "source": [
    "#create a list of words which has the starting letter of each word from a  list of words.\n",
    "\n",
    "listOfWords=input(\"enter your sentence \").split()\n",
    "listOfAlpha=[x[0] for x in listOfWords]\n",
    "print(listOfAlpha)"
   ]
  },
  {
   "cell_type": "code",
   "execution_count": 12,
   "metadata": {},
   "outputs": [
    {
     "name": "stdout",
     "output_type": "stream",
     "text": [
      "[102.56, 97.7, 99.14, 100.04]\n"
     ]
    }
   ],
   "source": [
    "#from celsius to farheniet\n",
    "cel=[39.2,36.5,37.3,37.8]\n",
    "far=[round((9.0*c/5)+32,2) for c in cel ]\n",
    "print(far)"
   ]
  },
  {
   "cell_type": "code",
   "execution_count": 19,
   "metadata": {},
   "outputs": [
    {
     "name": "stdout",
     "output_type": "stream",
     "text": [
      "[(3, 4, 5), (5, 12, 13), (6, 8, 10), (7, 24, 25), (8, 15, 17), (9, 12, 15), (10, 24, 26), (12, 16, 20), (15, 20, 25), (18, 24, 30), (20, 21, 29)]\n"
     ]
    }
   ],
   "source": [
    "#pythagoreas triplet range 1 to 30\n",
    "pyt=[(x,y,z) for x in range(1,31) for y in range(x,31) for z in range(y,31) if (x**2+y**2==z**2)]\n",
    "print(pyt)"
   ]
  },
  {
   "cell_type": "code",
   "execution_count": 18,
   "metadata": {},
   "outputs": [
    {
     "name": "stdout",
     "output_type": "stream",
     "text": [
      "[(3, 4, 5), (5, 12, 13), (6, 8, 10), (7, 24, 25), (8, 15, 17), (9, 12, 15), (10, 24, 26), (12, 16, 20), (15, 20, 25), (18, 24, 30), (20, 21, 29)]\n"
     ]
    }
   ],
   "source": [
    "n=30\n",
    "print([(a,b,c) for a in range(1,n+1) for b in range(a,n+1) for c in range(b,n+1) if a**2 + b**2 == c**2])"
   ]
  },
  {
   "cell_type": "markdown",
   "metadata": {},
   "source": [
    "### Anonymous Functions\n",
    "They are created when they are hit by python and destroyed thereafter unlike in normal functions here a memory space is not reserved. Dont go for it frequently else time complexity will increase. (200lines call 2 3 times)"
   ]
  },
  {
   "cell_type": "markdown",
   "metadata": {},
   "source": [
    "### Lambda"
   ]
  },
  {
   "cell_type": "code",
   "execution_count": 20,
   "metadata": {},
   "outputs": [
    {
     "name": "stdout",
     "output_type": "stream",
     "text": [
      "<class 'function'>\n"
     ]
    },
    {
     "data": {
      "text/plain": [
       "7"
      ]
     },
     "execution_count": 20,
     "metadata": {},
     "output_type": "execute_result"
    }
   ],
   "source": [
    "sumVal=lambda x,y : x+y\n",
    "print(type(sumVal))\n",
    "sumVal(3,4)"
   ]
  },
  {
   "cell_type": "code",
   "execution_count": 21,
   "metadata": {},
   "outputs": [
    {
     "data": {
      "text/plain": [
       "16"
      ]
     },
     "execution_count": 21,
     "metadata": {},
     "output_type": "execute_result"
    }
   ],
   "source": [
    "square= lambda x : x**2\n",
    "square(4)"
   ]
  },
  {
   "cell_type": "code",
   "execution_count": 25,
   "metadata": {},
   "outputs": [
    {
     "data": {
      "text/plain": [
       "10"
      ]
     },
     "execution_count": 25,
     "metadata": {},
     "output_type": "execute_result"
    }
   ],
   "source": [
    "#use lambda product of three digits\n",
    "\n",
    "product=lambda x : int(x[0])*int(x[1])*int(x[2])\n",
    "product(str(152))"
   ]
  },
  {
   "cell_type": "code",
   "execution_count": 26,
   "metadata": {},
   "outputs": [
    {
     "data": {
      "text/plain": [
       "30"
      ]
     },
     "execution_count": 26,
     "metadata": {},
     "output_type": "execute_result"
    }
   ],
   "source": [
    "#sum of squares of digits\n",
    "sumsq=lambda x : int(x[0])**2+int(x[1])**2+int(x[2])**2\n",
    "sumsq(str(152))"
   ]
  },
  {
   "cell_type": "code",
   "execution_count": 31,
   "metadata": {},
   "outputs": [
    {
     "data": {
      "text/plain": [
       "40.0"
      ]
     },
     "execution_count": 31,
     "metadata": {},
     "output_type": "execute_result"
    }
   ],
   "source": [
    "#use lambda and find the simple interest \n",
    "interest=lambda p,r,t: p*r*t*0.01\n",
    "interest(200,10,2)"
   ]
  },
  {
   "cell_type": "code",
   "execution_count": 35,
   "metadata": {},
   "outputs": [
    {
     "name": "stdout",
     "output_type": "stream",
     "text": [
      "enter celsius scale 37.8\n",
      "farheniet value is  100.04\n"
     ]
    }
   ],
   "source": [
    "far=lambda x :round((9.0*x/5)+32,2)\n",
    "print(\"farheniet value is \",far(float(input(\"enter celsius scale \"))))"
   ]
  },
  {
   "cell_type": "markdown",
   "metadata": {},
   "source": [
    "### Map"
   ]
  },
  {
   "cell_type": "code",
   "execution_count": 36,
   "metadata": {},
   "outputs": [
    {
     "name": "stdout",
     "output_type": "stream",
     "text": [
      "[1, 4, 9, 16, 25]\n"
     ]
    }
   ],
   "source": [
    "square_val=list(map(lambda x: x**2,[1,2,3,4,5]))\n",
    "print(square_val)"
   ]
  },
  {
   "cell_type": "code",
   "execution_count": 37,
   "metadata": {},
   "outputs": [
    {
     "name": "stdout",
     "output_type": "stream",
     "text": [
      "[0, 1, 4, 9, 16, 25, 36, 49, 64, 81]\n"
     ]
    }
   ],
   "source": [
    "square_val=list(map(lambda x: x**2,range(10)))\n",
    "print(square_val)"
   ]
  },
  {
   "cell_type": "code",
   "execution_count": 39,
   "metadata": {},
   "outputs": [
    {
     "name": "stdout",
     "output_type": "stream",
     "text": [
      "[73.4, 113.9, 189.14, 93.74, -69.7]\n"
     ]
    }
   ],
   "source": [
    "#you have celsius list convert to corresponding farheniet\n",
    "celsius_list=[23,45.5,87.3,34.3,-56.5]\n",
    "far_list=list(map(lambda x :round((9.0*x/5)+32,2),celsius_list))\n",
    "print(far_list)"
   ]
  },
  {
   "cell_type": "markdown",
   "metadata": {},
   "source": [
    "### Files (r,w,a,r+,rb,rb+,wb,rb w,ab work in python 3.6)"
   ]
  },
  {
   "cell_type": "code",
   "execution_count": 62,
   "metadata": {},
   "outputs": [
    {
     "name": "stdout",
     "output_type": "stream",
     "text": [
      "example.txt\n",
      "First\n"
     ]
    }
   ],
   "source": [
    "fo=open(\"example.txt\",\"r\")\n",
    "print(fo.name)\n",
    "print(fo.read(5))\n",
    "fo.close()"
   ]
  },
  {
   "cell_type": "code",
   "execution_count": 46,
   "metadata": {},
   "outputs": [
    {
     "name": "stdout",
     "output_type": "stream",
     "text": [
      "<_io.BufferedReader name='python.jpg'>\n"
     ]
    }
   ],
   "source": [
    "fo=open(\"python.jpg\",\"rb\")\n",
    "print(fo)\n",
    "fo.close()"
   ]
  },
  {
   "cell_type": "code",
   "execution_count": 47,
   "metadata": {},
   "outputs": [
    {
     "name": "stdout",
     "output_type": "stream",
     "text": [
      "example.txt\n"
     ]
    }
   ],
   "source": [
    "fo=open(\"example.txt\",\"w\") #pure write mode\n",
    "print(fo.name)\n",
    "fo.write(\"hello\")\n",
    "fo.close()"
   ]
  },
  {
   "cell_type": "code",
   "execution_count": 43,
   "metadata": {},
   "outputs": [
    {
     "name": "stdout",
     "output_type": "stream",
     "text": [
      "example1.txt\n"
     ]
    }
   ],
   "source": [
    "fo=open(\"example1.txt\",\"w\") #if the file is not found then it will create one \n",
    "print(fo.name)\n",
    "fo.close()"
   ]
  },
  {
   "cell_type": "code",
   "execution_count": 77,
   "metadata": {},
   "outputs": [
    {
     "name": "stdout",
     "output_type": "stream",
     "text": [
      "example.txt\n",
      "enter your name roll and college\n",
      "nil 67 iter\n",
      "\n"
     ]
    }
   ],
   "source": [
    "import time\n",
    "fo=open(\"example.txt\",\"w+\")\n",
    "print(fo.name)\n",
    "a=input(\"enter your name roll and college\\n\").split()\n",
    "fo.write(\"First Name : {0} \\nRoll : {1} \\nCollege : {2}\".format(a[0],a[1],a[2]))\n",
    "time.sleep(5)\n",
    "print(fo.read())\n",
    "#f1.close()\n",
    "fo.close()\n",
    "#fo=open(\"example.txt\",\"r\") \n",
    "#fo=open(\"example.txt\",\"r\") \n",
    "#print(\"read  \"+fo.read())\n",
    "#fo.close()"
   ]
  },
  {
   "cell_type": "code",
   "execution_count": 67,
   "metadata": {},
   "outputs": [
    {
     "name": "stdout",
     "output_type": "stream",
     "text": [
      "example.txt\n",
      "enter your name roll and college\n",
      "teja 67 iter\n",
      "read  First Name : teja \n",
      "Roll : 34 \n",
      "College : iter\n",
      "First Name : teja \n",
      "Roll : 67 \n",
      "College : iter\n",
      "\n"
     ]
    }
   ],
   "source": [
    "fo=open(\"example.txt\",\"a\") \n",
    "print(fo.name)\n",
    "a=input(\"enter your name roll and college\\n\").split()\n",
    "fo.write(\"First Name : {0} \\nRoll : {1} \\nCollege : {2}\\n\".format(a[0],a[1],a[2]))\n",
    "#print(fo.read())\n",
    "fo.close()\n",
    "fo=open(\"example.txt\",\"r\") \n",
    "#fo=open(\"example.txt\",\"r\") \n",
    "print(\"read  \"+fo.read())\n",
    "fo.close()"
   ]
  },
  {
   "cell_type": "code",
   "execution_count": 86,
   "metadata": {},
   "outputs": [
    {
     "name": "stdout",
     "output_type": "stream",
     "text": [
      "I love python ilove python\n",
      "12-25-14\n",
      "apple-mango-salad\n",
      "['ball a', '', 'le mango']\n"
     ]
    }
   ],
   "source": [
    "#Replace join split\n",
    "oldstr=\"I like python\"\n",
    "oldstr2=\"ilike python\"\n",
    "newstr=oldstr.replace('like','love')\n",
    "newstr1=oldstr2.replace('like','love')\n",
    "print(newstr,newstr1)\n",
    "list1=[12,25,14]\n",
    "print(\"-\".join([\"12\",\"25\",\"14\"]))\n",
    "print(\"-\".join([\"apple\",\"mango\",\"salad\"]))\n",
    "str1=\"ball apple mango\"\n",
    "print(str1.split('p'))"
   ]
  },
  {
   "cell_type": "markdown",
   "metadata": {},
   "source": [
    "### Exception Handling"
   ]
  },
  {
   "cell_type": "code",
   "execution_count": 87,
   "metadata": {},
   "outputs": [
    {
     "ename": "IndentationError",
     "evalue": "expected an indented block (<ipython-input-87-ea658411386b>, line 3)",
     "output_type": "error",
     "traceback": [
      "\u001b[0;36m  File \u001b[0;32m\"<ipython-input-87-ea658411386b>\"\u001b[0;36m, line \u001b[0;32m3\u001b[0m\n\u001b[0;31m    except <Exception>:#put the possible exception here\u001b[0m\n\u001b[0m         ^\u001b[0m\n\u001b[0;31mIndentationError\u001b[0m\u001b[0;31m:\u001b[0m expected an indented block\n"
     ]
    }
   ],
   "source": [
    "try:\n",
    "    #write any code\n",
    "except <Exception>:#put the possible exception here\n",
    "    print(\"Some error\")\n",
    "else:\n",
    "    print(\"All went well \")"
   ]
  },
  {
   "cell_type": "code",
   "execution_count": 89,
   "metadata": {},
   "outputs": [
    {
     "name": "stdout",
     "output_type": "stream",
     "text": [
      "IO Error detected\n"
     ]
    }
   ],
   "source": [
    "#IOError\n",
    "try:\n",
    "    fh=open(\"example.txt\",\"r\")\n",
    "    fh.write(\"hello im in try block\")\n",
    "    print(\"lets see\")\n",
    "except IOError:\n",
    "    print(\"IO Error detected\")\n",
    "else:\n",
    "    print(\"file sucess\")"
   ]
  },
  {
   "cell_type": "code",
   "execution_count": 90,
   "metadata": {},
   "outputs": [
    {
     "name": "stdout",
     "output_type": "stream",
     "text": [
      "Key not found in dictionary\n"
     ]
    }
   ],
   "source": [
    "#Key Error\n",
    "did = {}\n",
    "try:\n",
    "   print(did[\"alpha\"])\n",
    "except KeyError:\n",
    "   print(\"Key not found in dictionary\")"
   ]
  },
  {
   "cell_type": "code",
   "execution_count": 91,
   "metadata": {},
   "outputs": [
    {
     "name": "stdout",
     "output_type": "stream",
     "text": [
      "value error detected\n"
     ]
    }
   ],
   "source": [
    "#value Error\n",
    "try:\n",
    "    int(\"dog\")\n",
    "except ValueError:\n",
    "    print(\"value error detected\")\n",
    "else:\n",
    "    print(\"all fine\")"
   ]
  },
  {
   "cell_type": "code",
   "execution_count": 92,
   "metadata": {},
   "outputs": [
    {
     "name": "stdout",
     "output_type": "stream",
     "text": [
      "type error detected\n"
     ]
    }
   ],
   "source": [
    "#type error\n",
    "try:\n",
    "    print(\"3\"+3)\n",
    "except TypeError:\n",
    "    print(\"type error detected\")\n",
    "else:\n",
    "    print(\"success\")"
   ]
  },
  {
   "cell_type": "code",
   "execution_count": 93,
   "metadata": {},
   "outputs": [
    {
     "name": "stdout",
     "output_type": "stream",
     "text": [
      "Cant divide by zero\n"
     ]
    }
   ],
   "source": [
    "#zero division error\n",
    "try:\n",
    "    val=4/0\n",
    "except ZeroDivisionError:\n",
    "    print(\"Cant divide by zero\")\n",
    "else:\n",
    "    print(\"sucess\")"
   ]
  },
  {
   "cell_type": "code",
   "execution_count": null,
   "metadata": {},
   "outputs": [],
   "source": []
  }
 ],
 "metadata": {
  "kernelspec": {
   "display_name": "Python 3",
   "language": "python",
   "name": "python3"
  },
  "language_info": {
   "codemirror_mode": {
    "name": "ipython",
    "version": 3
   },
   "file_extension": ".py",
   "mimetype": "text/x-python",
   "name": "python",
   "nbconvert_exporter": "python",
   "pygments_lexer": "ipython3",
   "version": "3.6.5"
  }
 },
 "nbformat": 4,
 "nbformat_minor": 2
}
