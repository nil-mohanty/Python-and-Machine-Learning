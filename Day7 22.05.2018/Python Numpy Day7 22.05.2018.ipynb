{
 "cells": [
  {
   "cell_type": "markdown",
   "metadata": {},
   "source": [
    "## Numpy"
   ]
  },
  {
   "cell_type": "markdown",
   "metadata": {},
   "source": [
    "to install numpy goto terminal and type<br>\n",
    "sudo pip3.6 install numpy"
   ]
  },
  {
   "cell_type": "code",
   "execution_count": 1,
   "metadata": {},
   "outputs": [],
   "source": [
    "#if no output comes then the installation is successful\n",
    "import numpy"
   ]
  },
  {
   "cell_type": "code",
   "execution_count": 3,
   "metadata": {},
   "outputs": [
    {
     "name": "stdout",
     "output_type": "stream",
     "text": [
      "<class 'numpy.ndarray'>\n",
      "(3,)\n",
      "1 2 3\n",
      "[5 2 3]\n"
     ]
    }
   ],
   "source": [
    "#array basics\n",
    "import numpy as np      #np is just as a nick name for numpy\n",
    "a=np.array([1,2,3])     #Create a rank 1 array\n",
    "print(type(a))          #Prints <class 'numpy.ndarray'>\n",
    "print(a.shape)          #Prints \"(3,)\" #rows vs columns\n",
    "print(a[0],a[1],a[2])   #Prints \"1 2 3\"\n",
    "a[0]=5                  #Change an element of the array\n",
    "print(a)                #Prints \"[5 2 3]\"\n",
    "\n",
    "\"\"\"\n",
    "EXPLANATION:- \n",
    "\"\"\""
   ]
  },
  {
   "cell_type": "code",
   "execution_count": 5,
   "metadata": {},
   "outputs": [
    {
     "name": "stdout",
     "output_type": "stream",
     "text": [
      "(3,)\n",
      "(3, 1)\n"
     ]
    }
   ],
   "source": [
    "# 1 row 3 column\n",
    "d=np.array([1,2,3])\n",
    "print(d.shape)\n",
    "\n",
    "#3 row 1 column\n",
    "e=np.array([[1],[2],[3]])\n",
    "print(e.shape)"
   ]
  },
  {
   "cell_type": "code",
   "execution_count": 6,
   "metadata": {},
   "outputs": [
    {
     "name": "stdout",
     "output_type": "stream",
     "text": [
      "(2, 3)\n",
      "2 4\n"
     ]
    }
   ],
   "source": [
    "#another example 2 by 3 matrix\n",
    "b=np.array([[2,3,4],[4,5,6]])\n",
    "print(b.shape)\n",
    "print(b[0,0],b[1,0])\n"
   ]
  },
  {
   "cell_type": "code",
   "execution_count": 9,
   "metadata": {},
   "outputs": [
    {
     "name": "stdout",
     "output_type": "stream",
     "text": [
      "shape is  (3, 3)\n",
      "[[1 2 3]\n",
      " [4 5 6]\n",
      " [7 8 9]]\n",
      "6 8\n"
     ]
    }
   ],
   "source": [
    "#create numpy array from python list\n",
    "list1=[[1,2,3],[4,5,6],[7,8,9]]\n",
    "f=np.array(list1)\n",
    "print(\"shape is \",f.shape)\n",
    "print(f)\n",
    "print(f[1,2],f[2,1])"
   ]
  },
  {
   "cell_type": "code",
   "execution_count": 11,
   "metadata": {},
   "outputs": [
    {
     "name": "stdout",
     "output_type": "stream",
     "text": [
      "[[0. 0.]\n",
      " [0. 0.]]\n",
      "<class 'numpy.float64'>\n"
     ]
    }
   ],
   "source": [
    "#create an array of zeros using np.zeros((row,column))\n",
    "a=np.zeros((2,2))\n",
    "print(a)\n",
    "print(type(a[0][0])) #numpy float for 64 bit precision"
   ]
  },
  {
   "cell_type": "code",
   "execution_count": 12,
   "metadata": {},
   "outputs": [
    {
     "name": "stdout",
     "output_type": "stream",
     "text": [
      "[[1. 1. 1.]\n",
      " [1. 1. 1.]]\n",
      "<class 'numpy.float64'>\n"
     ]
    }
   ],
   "source": [
    "#create an array of ones using np.ones((row,column))\n",
    "a=np.ones((2,3))\n",
    "print(a)\n",
    "print(type(a[0][0])) #numpy float for 64 bit precision"
   ]
  },
  {
   "cell_type": "code",
   "execution_count": 17,
   "metadata": {},
   "outputs": [
    {
     "name": "stdout",
     "output_type": "stream",
     "text": [
      "[[7 7 7]\n",
      " [7 7 7]]\n",
      "<class 'numpy.int64'>\n"
     ]
    }
   ],
   "source": [
    "#create an full array of any constant using np.full((row,column),constant)\n",
    "a=np.full((2,3),7)  #can accept int float str\n",
    "print(a)\n",
    "print(type(a[0][0])) #numpy float for 64 bit precision"
   ]
  },
  {
   "cell_type": "code",
   "execution_count": 19,
   "metadata": {},
   "outputs": [
    {
     "name": "stdout",
     "output_type": "stream",
     "text": [
      "[[1. 0.]\n",
      " [0. 1.]]\n",
      "<class 'numpy.float64'>\n"
     ]
    }
   ],
   "source": [
    "#create an identity matrix using np.eye(row or column)\n",
    "a=np.eye(2)  #can accept int float str\n",
    "print(a)\n",
    "print(type(a[0][0])) #numpy float for 64 bit precision"
   ]
  },
  {
   "cell_type": "code",
   "execution_count": 21,
   "metadata": {},
   "outputs": [
    {
     "name": "stdout",
     "output_type": "stream",
     "text": [
      "[[1. 0. 0. 0.]\n",
      " [0. 1. 0. 0.]]\n",
      "<class 'numpy.float64'>\n"
     ]
    }
   ],
   "source": [
    "#create an identity matrix using np.eye(row or column) #try uneven dimension. it just creates the minm possible quare matrix and rest are assigned zeros\n",
    "a=np.eye(2,4)  #can accept int float str\n",
    "print(a)\n",
    "print(type(a[0][0])) #numpy float for 64 bit precision"
   ]
  },
  {
   "cell_type": "code",
   "execution_count": 23,
   "metadata": {},
   "outputs": [
    {
     "name": "stdout",
     "output_type": "stream",
     "text": [
      "[[0.39938407 0.83708767 0.96025876]\n",
      " [0.51130927 0.90703921 0.20193857]]\n"
     ]
    }
   ],
   "source": [
    "#create a random matrix by using np.random.random((rows,columns))\n",
    "e=np.random.random((2,3)) #random is a function of random class of numpy library\n",
    "print(e)"
   ]
  },
  {
   "cell_type": "code",
   "execution_count": 25,
   "metadata": {},
   "outputs": [
    {
     "name": "stdout",
     "output_type": "stream",
     "text": [
      "[[0. 0. 0.]\n",
      " [0. 0. 0.]\n",
      " [0. 0. 0.]\n",
      " [0. 0. 0.]]\n",
      "<class 'numpy.float64'>\n",
      "[[1. 1. 1.]\n",
      " [1. 1. 1.]\n",
      " [1. 1. 1.]\n",
      " [1. 1. 1.]]\n",
      "<class 'numpy.float64'>\n",
      "[[8.5 8.5 8.5]\n",
      " [8.5 8.5 8.5]\n",
      " [8.5 8.5 8.5]\n",
      " [8.5 8.5 8.5]]\n",
      "<class 'numpy.float64'>\n",
      "[[0. 0. 0.]\n",
      " [0. 0. 0.]\n",
      " [0. 0. 0.]\n",
      " [0. 0. 0.]]\n",
      "<class 'numpy.float64'>\n",
      "[[0.76083214 0.51232813 0.72161008]\n",
      " [0.65210889 0.60642732 0.62307544]\n",
      " [0.63113996 0.50483654 0.02826654]\n",
      " [0.10755468 0.10444478 0.01576409]]\n",
      "<class 'numpy.float64'>\n"
     ]
    }
   ],
   "source": [
    "#create an array of zeros using np.zeros((row,column))\n",
    "a=np.zeros((4,3))\n",
    "print(a)\n",
    "print(type(a[0][0])) #numpy float for 64 bit precision\n",
    "\n",
    "#create an array of ones using np.ones((row,column))\n",
    "b=np.ones((4,3))\n",
    "print(b)\n",
    "print(type(b[0][0])) #numpy float for 64 bit precision\n",
    "\n",
    "#create an full array of any constant using np.full((row,column),constant)\n",
    "c=np.full((4,3),8.5)  #can accept int float str\n",
    "print(c)\n",
    "print(type(c[0][0])) #numpy float for 64 bit precision\n",
    "\n",
    "#create an identity matrix using np.eye(row or column)\n",
    "d=np.eye(4)  #can accept int float str\n",
    "print(a)\n",
    "print(type(d[0][0])) #numpy float for 64 bit precision\n",
    "\n",
    "#create a random matrix by using np.random.random((rows,columns))\n",
    "e=np.random.random((4,3)) #random is a function of random class of numpy library\n",
    "print(e)\n",
    "print(type(e[0][0])) #numpy float for 64 bit precision"
   ]
  },
  {
   "cell_type": "markdown",
   "metadata": {},
   "source": [
    "### Array Indexing"
   ]
  },
  {
   "cell_type": "markdown",
   "metadata": {},
   "source": [
    "Numpy offers several ways to index into arrays <br> Slicing: Similar to python lists,numpy arrays can be sliced. Since arrays may be multidimensional,you must specify a slice for each dimension of the array.<br> while slicing any chnage you make to the sliced(child) array it is reflected in the parent too."
   ]
  },
  {
   "cell_type": "code",
   "execution_count": 28,
   "metadata": {},
   "outputs": [
    {
     "name": "stdout",
     "output_type": "stream",
     "text": [
      "[[ 6  7]\n",
      " [10 11]]\n"
     ]
    }
   ],
   "source": [
    "import numpy as np\n",
    "#Create the following rank 2 array with shape(3,4)\n",
    "#[[1 2 3 4] [5 6 7 8] [9 10 11 12]]\n",
    "\n",
    "a=np.array([[1, 2, 3 ,4],[5 ,6, 7, 8],[9 ,10 ,11 ,12]])\n",
    "\n",
    "#use slicing to pull out the sub array consisting of the first \n",
    "#and columns 1 and 2; b is the following array of shape(2,2)\n",
    "#[[2 3] [6 7]]\n",
    "b=a[:2,1:3] # for :2 it will consider 0 and 1 rows of a, column will be 1:3 ie 1 and 2 \n",
    "print(b)\n",
    "\n",
    "#A slice of an array is a view into the same data,so modifying the sliced array \n",
    "#will modify the original array\n",
    "print(a[0][1])  #check before\n",
    "b[0][0]=77      #chnage the value in sliced array\n",
    "print(a[0][1])  #it is reflected in original array"
   ]
  },
  {
   "cell_type": "code",
   "execution_count": 33,
   "metadata": {},
   "outputs": [
    {
     "name": "stdout",
     "output_type": "stream",
     "text": [
      "[[ 2 10]\n",
      " [ 6 15]]\n",
      "15\n",
      "30\n"
     ]
    }
   ],
   "source": [
    "#Exercise\n",
    "arr1=np.array([[3,7,2,10],[4,2,10,22],[3,6,15,21]])\n",
    "arr2=arr1[1:3,1:3]\n",
    "print(d)\n",
    "print(arr1[2,2])\n",
    "arr2[1][1]=30\n",
    "print(arr1[2,2])"
   ]
  },
  {
   "cell_type": "markdown",
   "metadata": {},
   "source": [
    "One useful trick with integer array indexing is selecting or mutating<br>one element from each row of a matrix"
   ]
  },
  {
   "cell_type": "code",
   "execution_count": 40,
   "metadata": {},
   "outputs": [
    {
     "name": "stdout",
     "output_type": "stream",
     "text": [
      "[[ 1  2  3]\n",
      " [ 4  5  6]\n",
      " [ 7  8  9]\n",
      " [10 11 12]]\n",
      "[ 1  6  7 11]\n",
      "[[11  2  3]\n",
      " [ 4  5 16]\n",
      " [17  8  9]\n",
      " [10 21 12]]\n"
     ]
    }
   ],
   "source": [
    "import numpy as np\n",
    "#Create a new array from which we will select elements\n",
    "a=np.array([[1,2,3],[4,5,6],[7,8,9],[10,11,12]])\n",
    "print(a)\n",
    "\n",
    "#create an array of indices\n",
    "b=np.array([0,2,0,1]) #has to be numpy array. list gives\n",
    "\n",
    "#select one element from each row of \"a\" using indices in b\n",
    "print(a[np.arange(4),b])\n",
    "\n",
    "#EXPLANATION:- here we want to extract certain elements(here it is four) from a into another array(not defined in this problem)\n",
    "#np.arange(4) gives an array [0,1,2,3] . b is an array [0,2,0,1]. \n",
    "#ofc it is obvious that length of np.arange(4) should be euqal with b \n",
    "#Now what happens is,it maps from row to column like from np.range(4)-->b (0,0) (1,2) (2,0) (3,1)\n",
    "#from the above mentioned addresses the elements are accessed into a temporary array.\n",
    "#in case of error IndexError is found\n",
    "\n",
    "a[np.arange(4),b]+=10\n",
    "#change all the previous elements by adding 10\n",
    "#a[b,np.arange(4)]+=10 #index error\n",
    "print(a)"
   ]
  },
  {
   "cell_type": "code",
   "execution_count": 41,
   "metadata": {},
   "outputs": [
    {
     "name": "stdout",
     "output_type": "stream",
     "text": [
      "[[ 23  34  56]\n",
      " [ -2 -13  12]\n",
      " [-14  20  16]]\n",
      "[ 23 -13 -14]\n",
      "[[48 34 56]\n",
      " [-2 12 12]\n",
      " [11 20 16]]\n"
     ]
    }
   ],
   "source": [
    "#Exercise\n",
    "# take the array [23,34,56],[-2,-13,12],[-14,20,16] add 25 to 23,-13,-14\n",
    "a=np.array([[23,34,56],[-2,-13,12],[-14,20,16]])\n",
    "col=np.array([0,1,0])\n",
    "print(a)\n",
    "print(a[np.arange(3),col])\n",
    "a[np.arange(3),col]+=25\n",
    "print(a)\n"
   ]
  },
  {
   "cell_type": "markdown",
   "metadata": {},
   "source": [
    "### Boolean Array Indexing"
   ]
  },
  {
   "cell_type": "markdown",
   "metadata": {},
   "source": [
    "<b>Boolean array indexing:</b> Boolean array indexing lets you pick out arbitrary elements of an array. Frequently this type of indexing is used to select the elements of an array that satisfies some condition."
   ]
  },
  {
   "cell_type": "code",
   "execution_count": 45,
   "metadata": {},
   "outputs": [
    {
     "name": "stdout",
     "output_type": "stream",
     "text": [
      "<class 'numpy.ndarray'> [[False False]\n",
      " [ True  True]\n",
      " [ True  True]]\n",
      "[3 4 5 6]\n",
      "[3 4 5 6]\n",
      "elements less than 3 are [1 2]\n"
     ]
    }
   ],
   "source": [
    "import numpy as np\n",
    "a=np.array([[1,2],[3,4],[5,6]])\n",
    "bool_idx=(a>2) \n",
    "#bool_idx is a amtrix of true or false of size same as that of \"a\". \n",
    "#it just holds true/false at the same slot of \"a\" \n",
    "#depending whether the element has satisfied the condition or not\n",
    "print(type(bool_idx),bool_idx)\n",
    "\n",
    "#we use boolean array indexing to construct a rank 1 array\n",
    "#consisting of the elements of a corresponding true value\n",
    "#of bool_idx\n",
    "print(a[bool_idx]) #prints \"[3 4 5 6]\"\n",
    "\n",
    "#we can do all the above in a single concise statement:\n",
    "print(a[a>2]) #prints \"[3 4 5 6]\"\n",
    "\n",
    "#print all the elements ;less than 3\n",
    "print(\"elements less than 3 are\",a[a<3])"
   ]
  },
  {
   "cell_type": "markdown",
   "metadata": {},
   "source": [
    "### Array Math\n",
    "basic mathematical functions operate element wise on arrays and are available<br>both as operator overloads and as functions in the numpy module"
   ]
  },
  {
   "cell_type": "code",
   "execution_count": 51,
   "metadata": {},
   "outputs": [
    {
     "name": "stdout",
     "output_type": "stream",
     "text": [
      "sum\n",
      "[[ 6.  8.]\n",
      " [10. 12.]]\n",
      "[[ 6.  8.]\n",
      " [10. 12.]]\n",
      "subtract\n",
      "[[-4. -4.]\n",
      " [-4. -4.]]\n",
      "[[-4. -4.]\n",
      " [-4. -4.]]\n",
      "multiply\n",
      "[[ 5. 12.]\n",
      " [21. 32.]]\n",
      "[[ 5. 12.]\n",
      " [21. 32.]]\n",
      "division\n",
      "[[0.2        0.33333333]\n",
      " [0.42857143 0.5       ]]\n",
      "[[0.2        0.33333333]\n",
      " [0.42857143 0.5       ]]\n",
      "division\n",
      "[[1.         1.41421356]\n",
      " [1.73205081 2.        ]]\n",
      "[[1.         1.41421356]\n",
      " [1.73205081 2.        ]]\n",
      "mul [[ 4.  8.]\n",
      " [12. 16.]]\n",
      "add [[5. 6.]\n",
      " [7. 8.]]\n",
      "sub [[-3. -2.]\n",
      " [-1.  0.]]\n",
      "div [[0.25 0.5 ]\n",
      " [0.75 1.  ]]\n"
     ]
    }
   ],
   "source": [
    "import numpy as np\n",
    "x=np.array([[1,2],[3,4]] , dtype=np.float64)\n",
    "y=np.array([[5,6],[7,8]] , dtype=np.float64)\n",
    "\n",
    "#Element wise sum; both produce the array\n",
    "print(\"sum\")\n",
    "print(x+y)\n",
    "print(np.add(x,y))\n",
    "\n",
    "#Element wise difference; both produce the array\n",
    "print(\"subtract\")\n",
    "print(x-y)\n",
    "print(np.subtract(x,y))\n",
    "\n",
    "#Element wise product; both produce the array\n",
    "print(\"multiply\")\n",
    "print(x*y)\n",
    "print(np.multiply(x,y))\n",
    "\n",
    "#Element wise division; both produce the array\n",
    "print(\"division\")\n",
    "print(x/y)\n",
    "print(np.divide(x,y))\n",
    "\n",
    "#Element wise sqrt; both produce the array\n",
    "print(\"division\")\n",
    "print(x**0.5)\n",
    "print(np.sqrt(x))\n",
    "\n",
    "#single number operation\n",
    "print(\"mul\",x*4)\n",
    "print(\"add\",x+4)\n",
    "print(\"sub\",x-4)\n",
    "print(\"div\",x/4)\n"
   ]
  },
  {
   "cell_type": "markdown",
   "metadata": {},
   "source": [
    "<b>Dot and Cross Multiplication </b>"
   ]
  },
  {
   "cell_type": "code",
   "execution_count": 53,
   "metadata": {},
   "outputs": [
    {
     "name": "stdout",
     "output_type": "stream",
     "text": [
      "[[19 22]\n",
      " [43 50]]\n",
      "[[23 34]\n",
      " [31 46]]\n"
     ]
    }
   ],
   "source": [
    "import numpy as np\n",
    "x=np.array([[1,2],[3,4]])\n",
    "y=np.array([[5,6],[7,8]])\n",
    "print(np.dot(x,y))\n",
    "print(np.dot(y,x))\n"
   ]
  },
  {
   "cell_type": "markdown",
   "metadata": {},
   "source": [
    "<b>Sum of matrix in numpy</b>"
   ]
  },
  {
   "cell_type": "code",
   "execution_count": 54,
   "metadata": {},
   "outputs": [
    {
     "name": "stdout",
     "output_type": "stream",
     "text": [
      "10\n",
      "[4 6]\n",
      "[3 7]\n"
     ]
    }
   ],
   "source": [
    "import numpy as np\n",
    "x=np.array([[1,2],[3,4]])\n",
    "print(np.sum(x))        #sum of all the elements\n",
    "print(np.sum(x,axis=0)) #of each column\n",
    "print(np.sum(x,axis=1)) #of each row"
   ]
  },
  {
   "cell_type": "markdown",
   "metadata": {},
   "source": [
    "<b>Transpose of matrix</b>"
   ]
  },
  {
   "cell_type": "code",
   "execution_count": 55,
   "metadata": {},
   "outputs": [
    {
     "name": "stdout",
     "output_type": "stream",
     "text": [
      "[[1 2]\n",
      " [3 4]]\n",
      "[[1 3]\n",
      " [2 4]]\n"
     ]
    }
   ],
   "source": [
    "import numpy as np\n",
    "x=np.array([[1,2],[3,4]])\n",
    "print(x)\n",
    "print(x.T) #x.t creates thetranspose of the matrix here T is the keyword"
   ]
  },
  {
   "cell_type": "markdown",
   "metadata": {},
   "source": [
    "## Worksheet"
   ]
  },
  {
   "cell_type": "markdown",
   "metadata": {},
   "source": [
    "<b>Q1. X = 3A - 4B</b><br>\n",
    "\n",
    "<b>A:</b><br>\n",
    "4 -2<br>\n",
    "1 -7<br>\n",
    "\n",
    "<b>B:</b><br>\n",
    "-1 2<br>\n",
    "6 5<br>\n",
    "\n",
    "Solve for <b>X</b>"
   ]
  },
  {
   "cell_type": "code",
   "execution_count": 56,
   "metadata": {},
   "outputs": [
    {
     "name": "stdout",
     "output_type": "stream",
     "text": [
      "[[ 16 -14]\n",
      " [-21 -41]]\n"
     ]
    }
   ],
   "source": [
    "#ques1\n",
    "import numpy as np\n",
    "a=np.array([[4,-2],[1,-7]])\n",
    "b=np.array([[-1,2],[6,5]])\n",
    "a=3*a\n",
    "b=4*b\n",
    "x=a-b\n",
    "print(x)"
   ]
  },
  {
   "cell_type": "markdown",
   "metadata": {},
   "source": [
    "<b>Q2. X = A'A - 2A</b><br>\n",
    "\n",
    "<b>A:</b><br>\n",
    "3 -1<br>\n",
    "0 2<br>\n",
    "\n",
    "Solve for <b>X</b><br>\n",
    "correction inQ2"
   ]
  },
  {
   "cell_type": "code",
   "execution_count": 58,
   "metadata": {},
   "outputs": [
    {
     "name": "stdout",
     "output_type": "stream",
     "text": [
      "[[ 3 -1]\n",
      " [-3  1]]\n"
     ]
    }
   ],
   "source": [
    "#ques2\n",
    "import numpy as np\n",
    "a=np.array([[3,-1],[0,2]])\n",
    "x=np.dot((a.T),a)\n",
    "x=x-(2*a)\n",
    "print(x)"
   ]
  },
  {
   "cell_type": "markdown",
   "metadata": {},
   "source": [
    "<b>Q3. X = 2AB + C</b><br>\n",
    "\n",
    "<b>A:</b><br>\n",
    "3 0 -1<br>\n",
    "0 2 1<br>\n",
    "\n",
    "<b>B:</b><br>\n",
    "1 2<br>\n",
    "1 0<br>\n",
    "0 6<br>\n",
    "\n",
    "<b>C:</b><br>\n",
    "-2 0<br>\n",
    "-2 -5<br>\n",
    "\n",
    "Solve for <b>X</b><br>"
   ]
  },
  {
   "cell_type": "code",
   "execution_count": 59,
   "metadata": {},
   "outputs": [
    {
     "name": "stdout",
     "output_type": "stream",
     "text": [
      "[[4 0]\n",
      " [2 7]]\n"
     ]
    }
   ],
   "source": [
    "#ques3\n",
    "import numpy as np\n",
    "a=np.array([[3,0,-1],[0,2,1]])\n",
    "b=np.array([[1,2],[1,0],[0,6]])\n",
    "c=np.array([[-2,0],[-2,-5]])\n",
    "ab=2*np.dot(a,b)\n",
    "x=ab+c\n",
    "print(x)\n"
   ]
  },
  {
   "cell_type": "markdown",
   "metadata": {},
   "source": [
    "<b>Q4. Proof the following using the given matrices:</b><br>\n",
    "\n",
    "<b>A:</b><br>\n",
    "10 12<br>\n",
    "-7 -21<br>\n",
    "\n",
    "<b>B:</b><br>\n",
    "45 3<br>\n",
    "12 -2<br>\n",
    "\n",
    "<b>B:</b><br>\n",
    "20 21<br>\n",
    "-4 -5<br>\n",
    "\n",
    "<b>i) (ABC)' = A'B'C'</b><br>\n",
    "<b>ii) (A + B)' = A' + B'</b><br>\n",
    "<b>iii) A(B + C) = AB + AC</b><br>"
   ]
  },
  {
   "cell_type": "code",
   "execution_count": 67,
   "metadata": {},
   "outputs": [
    {
     "name": "stdout",
     "output_type": "stream",
     "text": [
      "False\n",
      "True\n",
      "True\n"
     ]
    }
   ],
   "source": [
    "#ques4\n",
    "a=np.array([[10,12],[-7,-21]])\n",
    "b=np.array([[45,3],[12,-2]])\n",
    "c=np.array([[20,21],[-4,-5]])\n",
    "\n",
    "#i) (ABC)' = A'B'C'\n",
    "abc=np.dot(np.dot(a,b),c)\n",
    "abc1=np.dot(np.dot(a.T,b.T),c.T)\n",
    "print(np.array_equal(abc.T,abc1.T))\n",
    "#\n",
    "#ii) (A + B)' = A' + B'\n",
    "asb=(a+b).T\n",
    "ab=a.T+b.T\n",
    "print(np.array_equal(asb,ab))\n",
    "\n",
    "#iii) A(B + C) = AB + AC\n",
    "\n",
    "first=np.dot(a,b+c)\n",
    "second=np.dot(a,b)+np.dot(a,c)\n",
    "print(np.array_equal(first,second))\n"
   ]
  },
  {
   "cell_type": "code",
   "execution_count": 68,
   "metadata": {},
   "outputs": [
    {
     "name": "stdout",
     "output_type": "stream",
     "text": [
      "[[False False]\n",
      " [False False]]\n"
     ]
    }
   ],
   "source": [
    "a=np.array([[10,12],[-7,-21]])\n",
    "b=np.array([[45,3],[12,-2]])\n",
    "print(a==b)"
   ]
  },
  {
   "cell_type": "code",
   "execution_count": null,
   "metadata": {},
   "outputs": [],
   "source": []
  }
 ],
 "metadata": {
  "kernelspec": {
   "display_name": "Python 3",
   "language": "python",
   "name": "python3"
  },
  "language_info": {
   "codemirror_mode": {
    "name": "ipython",
    "version": 3
   },
   "file_extension": ".py",
   "mimetype": "text/x-python",
   "name": "python",
   "nbconvert_exporter": "python",
   "pygments_lexer": "ipython3",
   "version": "3.6.5"
  }
 },
 "nbformat": 4,
 "nbformat_minor": 2
}
