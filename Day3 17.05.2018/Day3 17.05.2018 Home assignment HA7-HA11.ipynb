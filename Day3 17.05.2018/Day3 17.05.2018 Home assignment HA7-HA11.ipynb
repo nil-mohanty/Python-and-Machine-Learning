{
 "cells": [
  {
   "cell_type": "markdown",
   "metadata": {},
   "source": [
    "## Day3 Assignment ques HA7-HA11"
   ]
  },
  {
   "cell_type": "code",
   "execution_count": 8,
   "metadata": {},
   "outputs": [
    {
     "name": "stdout",
     "output_type": "stream",
     "text": [
      "enter the name and marks of subject 1 by a space and press enter  \n",
      "eng 78\n",
      "enter the name and marks of subject 2 by a space and press enter  \n",
      "phy 89\n",
      "\n",
      "\n",
      "ENG 78\n",
      "PHY 89\n",
      "sum is 167 \n"
     ]
    }
   ],
   "source": [
    "#HA7\n",
    "\"\"\"question 1 \n",
    "Addition of marks in dictionary\n",
    "Create a dictionary of 7 subjects as subject and marks pair and add all the marks of\n",
    "subjects.\"\"\"\n",
    "marksheet={} \n",
    "total=0\n",
    "#print(\"enter the subject name and marks of 7 subjects after the prompt \\n\")\n",
    "for i in range(1,3):\n",
    "    print(\"enter the name and marks of subject %d by a space and press enter  \"%(i))\n",
    "    a=input().upper().split()\n",
    "    marksheet[a[0]]=int(a[1])\n",
    "print(\"\\n\")\n",
    "for key in marksheet:\n",
    "    print(key,marksheet[key])\n",
    "print(\"sum of marks is %d \"%(sum(marksheet.values())))\n"
   ]
  },
  {
   "cell_type": "code",
   "execution_count": 9,
   "metadata": {},
   "outputs": [
    {
     "name": "stdout",
     "output_type": "stream",
     "text": [
      "enter whose table you want to view  7\n",
      "7 * 1 = 7\n",
      "7 * 2 = 14\n",
      "7 * 3 = 21\n",
      "7 * 4 = 28\n",
      "7 * 5 = 35\n",
      "7 * 6 = 42\n",
      "7 * 7 = 49\n",
      "7 * 8 = 56\n",
      "7 * 9 = 63\n",
      "7 * 10 = 70\n"
     ]
    }
   ],
   "source": [
    "#HA8\n",
    "#Question 2\n",
    "\"\"\"Table of 7\n",
    "Print a table of 7 using for loop.\"\"\"\n",
    "a=int(input(\"enter whose table you want to view  \"))\n",
    "for i in range(1,11):\n",
    "    print(\"%d * %d = %d\"%(a,i,a*i))"
   ]
  },
  {
   "cell_type": "code",
   "execution_count": 3,
   "metadata": {},
   "outputs": [
    {
     "name": "stdout",
     "output_type": "stream",
     "text": [
      "enter the number 0\n",
      "the sum of the first 0 number is 0 \n"
     ]
    }
   ],
   "source": [
    "#HA9\n",
    "#question 3\n",
    "\"\"\"Sum of n numbers\n",
    "Calculate the sum of first n numbers.\n",
    "The output on shell should be:\n",
    "Enter number: 5\n",
    "The sum of first 5 numbers is 15\"\"\"\n",
    "\n",
    "a=int(input(\"enter the number \"))\n",
    "print(\"the sum of the first %d number is %d \"%(a,((a*(a+1)))/2))"
   ]
  },
  {
   "cell_type": "code",
   "execution_count": 2,
   "metadata": {},
   "outputs": [
    {
     "name": "stdout",
     "output_type": "stream",
     "text": [
      "enter number 1 0\n",
      "enter number 2 2\n",
      "enter number 3 1\n",
      "enter number 4 3\n",
      "enter number 5 4\n",
      "enter number 6 5\n",
      "enter number 7 1\n",
      "enter number 8 0\n",
      "enter number 9 9\n",
      "enter number 10 10\n",
      "[0, 2, 1, 3, 4, 5, 1, 0, 9, 10]\n",
      "sum is 15 \n"
     ]
    }
   ],
   "source": [
    "#HA10\n",
    "#SUM OF NUMBERS DIV . BY 3\n",
    "list1=[]\n",
    "total=0\n",
    "for i in range(10):\n",
    "    a=int(input(\"enter number %d \"%(i+1)))\n",
    "    list1.append(a)\n",
    "    if(a%3==0):\n",
    "        total=total+a\n",
    "print(list1)\n",
    "print(\"sum is %d \"%total)"
   ]
  },
  {
   "cell_type": "code",
   "execution_count": 5,
   "metadata": {},
   "outputs": [
    {
     "name": "stdout",
     "output_type": "stream",
     "text": [
      "enter first number 25\n",
      "enter second number 0.2\n",
      "Enter your operation A- Addition \n",
      " S-subtraction \n",
      " M-multiplication \n",
      " D-divison\n",
      "D\n",
      "Divison of 25.00 / 0.20 is 125.00\n"
     ]
    }
   ],
   "source": [
    "#HA11\n",
    "#FUNCTION USED IN CALCULATOR\n",
    "a=float(input(\"enter first number \"))\n",
    "b=float(input(\"enter second number \"))\n",
    "def addn(a,b):\n",
    "    print(\"Addition of %.2f + %.2f is %.2f\"%(a,b(a+b)))\n",
    "def subtn(a,b):\n",
    "    print(\"Subtraction of %.2f - %.2f is %.2f\"%(a,b,a-b))\n",
    "def mulpn(a,b):\n",
    "    print(\"Multiplication of %.2f X %.2f is %.2f\"%(a,b,a*b))\n",
    "def divn(a,b):\n",
    "    if(b==0.0):\n",
    "        print(\"Cant divide by zero.\")\n",
    "    else:\n",
    "        print(\"Divison of %.2f / %.2f is %.2f\"%(a,b,a/b))\n",
    "op=input(\"Enter your operation A- Addition \\n S-subtraction \\n M-multiplication \\n D-divison\\n\").upper()\n",
    "if(op=='A'):\n",
    "    addn(a,b)\n",
    "elif(op=='S'):\n",
    "    subtn(a,b)\n",
    "elif(op=='M'):\n",
    "    mulpn(a,b)\n",
    "elif(op=='D'):\n",
    "    divn(a,b)\n",
    "else:\n",
    "    print(\"invalid operation \")"
   ]
  },
  {
   "cell_type": "code",
   "execution_count": null,
   "metadata": {},
   "outputs": [],
   "source": []
  }
 ],
 "metadata": {
  "kernelspec": {
   "display_name": "Python 3",
   "language": "python",
   "name": "python3"
  },
  "language_info": {
   "codemirror_mode": {
    "name": "ipython",
    "version": 3
   },
   "file_extension": ".py",
   "mimetype": "text/x-python",
   "name": "python",
   "nbconvert_exporter": "python",
   "pygments_lexer": "ipython3",
   "version": "3.6.4"
  }
 },
 "nbformat": 4,
 "nbformat_minor": 2
}
