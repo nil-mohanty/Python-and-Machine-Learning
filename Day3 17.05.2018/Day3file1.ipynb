{
 "cells": [
  {
   "cell_type": "markdown",
   "metadata": {},
   "source": [
    "## Day3 M1 ML 17/05/2018"
   ]
  },
  {
   "cell_type": "markdown",
   "metadata": {},
   "source": [
    "-Dictionaries\n",
    "-Tuples\n",
    "-Loops\n",
    "-Functions"
   ]
  },
  {
   "cell_type": "markdown",
   "metadata": {},
   "source": [
    "#values that can be put in a dictionary is string,int,float,list,dictionary,tuple\n",
    "key has to be immutable like int,float,string,tuple but not list or dict itself\n",
    "differnce between tuple(()) and list([]) is, tuple is immutable where as list is not. "
   ]
  },
  {
   "cell_type": "markdown",
   "metadata": {},
   "source": [
    "-Dictionary --Create Dictionary --Access Dictionary element <br> by putting < br > (ignore space ofc) you can go to next line since its not a code \\n wont work."
   ]
  },
  {
   "cell_type": "code",
   "execution_count": 36,
   "metadata": {},
   "outputs": [
    {
     "name": "stdout",
     "output_type": "stream",
     "text": [
      "2\n",
      "{'jan': [31, 2], 'feb': 28, 'march': 31, 'april': 30}\n",
      "30\n",
      "{'jan': [31, 2], 'feb': 28, 'march': 31, 'april': 30}\n"
     ]
    }
   ],
   "source": [
    "dictionary1= {\"jan\":[31,2], \"feb\":28, \"march\":31}\n",
    "print(dictionary1[\"jan\"][1])\n",
    "dictionary1[\"april\"]=30\n",
    "print(dictionary1)\n",
    "print(dictionary1[\"april\"])\n",
    "print(dictionary1)\n"
   ]
  },
  {
   "cell_type": "code",
   "execution_count": 28,
   "metadata": {},
   "outputs": [
    {
     "name": "stdout",
     "output_type": "stream",
     "text": [
      "{'jan': [31, 2], 'feb': 28, 'march': 31, 'april': 30}\n"
     ]
    },
    {
     "ename": "KeyError",
     "evalue": "0",
     "output_type": "error",
     "traceback": [
      "\u001b[0;31m---------------------------------------------------------------------------\u001b[0m",
      "\u001b[0;31mKeyError\u001b[0m                                  Traceback (most recent call last)",
      "\u001b[0;32m<ipython-input-28-fc75dd322cce>\u001b[0m in \u001b[0;36m<module>\u001b[0;34m()\u001b[0m\n\u001b[1;32m      1\u001b[0m \u001b[0mprint\u001b[0m\u001b[0;34m(\u001b[0m\u001b[0mdictionary1\u001b[0m\u001b[0;34m)\u001b[0m\u001b[0;34m\u001b[0m\u001b[0m\n\u001b[0;32m----> 2\u001b[0;31m \u001b[0mprint\u001b[0m\u001b[0;34m(\u001b[0m\u001b[0mdictionary1\u001b[0m\u001b[0;34m[\u001b[0m\u001b[0;36m0\u001b[0m\u001b[0;34m]\u001b[0m\u001b[0;34m)\u001b[0m\u001b[0;34m\u001b[0m\u001b[0m\n\u001b[0m",
      "\u001b[0;31mKeyError\u001b[0m: 0"
     ]
    }
   ],
   "source": [
    "print(dictionary1)\n",
    "print(dictionary1[0])\n"
   ]
  },
  {
   "cell_type": "code",
   "execution_count": 31,
   "metadata": {},
   "outputs": [
    {
     "name": "stdout",
     "output_type": "stream",
     "text": [
      "{'Teja': 95, 'Amit': 91, 'Annapurna': 90, 'Kalpana': 92, 'Nil': 85}\n",
      "Teja\n",
      "95\n"
     ]
    }
   ],
   "source": [
    "student={\"Teja\":95, \"Amit\":91, \"Annapurna\":90, \"Kalpana\":92, \"Nil\":85}\n",
    "print(student)\n",
    "print(list(student.keys())[0])  #incase you want to access the first element then convert dict to list by simple typecasting and there just add .keys() or .values() method so that all the keys/values can be accessed\n",
    "print(list(student.values())[0])"
   ]
  },
  {
   "cell_type": "code",
   "execution_count": 37,
   "metadata": {},
   "outputs": [
    {
     "name": "stdout",
     "output_type": "stream",
     "text": [
      "{'jan': [31, 2], 'feb': 28, 'march': 31}\n"
     ]
    }
   ],
   "source": [
    "#to remove an element\n",
    "del dictionary1[\"april\"]\n",
    "print(dictionary1)"
   ]
  },
  {
   "cell_type": "code",
   "execution_count": 38,
   "metadata": {},
   "outputs": [
    {
     "ename": "TypeError",
     "evalue": "unhashable type: 'list'",
     "output_type": "error",
     "traceback": [
      "\u001b[0;31m---------------------------------------------------------------------------\u001b[0m",
      "\u001b[0;31mTypeError\u001b[0m                                 Traceback (most recent call last)",
      "\u001b[0;32m<ipython-input-38-02252fd9a169>\u001b[0m in \u001b[0;36m<module>\u001b[0;34m()\u001b[0m\n\u001b[1;32m      1\u001b[0m \u001b[0;31m#try list as key\u001b[0m\u001b[0;34m\u001b[0m\u001b[0;34m\u001b[0m\u001b[0m\n\u001b[0;32m----> 2\u001b[0;31m \u001b[0mdict2\u001b[0m\u001b[0;34m=\u001b[0m\u001b[0;34m{\u001b[0m\u001b[0;34m[\u001b[0m\u001b[0;36m1\u001b[0m\u001b[0;34m,\u001b[0m\u001b[0;36m2\u001b[0m\u001b[0;34m]\u001b[0m\u001b[0;34m:\u001b[0m\u001b[0;36m25\u001b[0m\u001b[0;34m}\u001b[0m\u001b[0;34m\u001b[0m\u001b[0m\n\u001b[0m",
      "\u001b[0;31mTypeError\u001b[0m: unhashable type: 'list'"
     ]
    }
   ],
   "source": [
    "#try list as key\n",
    "dict2={[1,2]:25} # error is unhashable type "
   ]
  },
  {
   "cell_type": "code",
   "execution_count": 55,
   "metadata": {},
   "outputs": [
    {
     "name": "stdout",
     "output_type": "stream",
     "text": [
      "5\n",
      "<class 'dict'>\n",
      "{'Teja': 95, 'Amit': 91, 'Annapurna': 90, 'Kalpana': 92, 'Nil': 85}\n",
      "<class 'str'>\n",
      "dict_items([('Teja', 95), ('Amit', 91), ('Annapurna', 90), ('Kalpana', 92), ('Nil', 85)])\n",
      "<class 'dict_items'>\n",
      "<class 'dict_keys'>\n",
      "<class 'dict_values'>\n",
      "45\n"
     ]
    }
   ],
   "source": [
    "print(len(student)) #length of a dictionary\n",
    "print(type(student))\n",
    "print(str(student)) #print the dict as string\n",
    "print(type(str(student)))\n",
    "print(student.items()) #prints it as \"list of tuples\", those tuples contain key and values\n",
    "print(type(student.items())) #dict_items\n",
    "print(type(student.keys()))  #dict_keys\n",
    "print(type(student.values())) #dict_values\n",
    "print(dictionary1.get(\"sept\",45)) #if you find the key then return the value else return the 2nd argument."
   ]
  },
  {
   "cell_type": "code",
   "execution_count": 57,
   "metadata": {},
   "outputs": [
    {
     "name": "stdout",
     "output_type": "stream",
     "text": [
      "<class 'type'>\n"
     ]
    }
   ],
   "source": [
    "tup1=(1,2,3)\n",
    "tup2=(4,5,6)\n",
    "#tup1=tup1+\"1\" #cant concatenate int or string only tuple.\n",
    "print(type((tup1+tup2)[5]))"
   ]
  },
  {
   "cell_type": "markdown",
   "metadata": {},
   "source": [
    " # Loops"
   ]
  },
  {
   "cell_type": "code",
   "execution_count": 70,
   "metadata": {},
   "outputs": [
    {
     "name": "stdout",
     "output_type": "stream",
     "text": [
      "[1, 2, 3, 4, 5, 6, 7, 8, 9]\n",
      "[1, 3, 5, 7, 9]\n"
     ]
    }
   ],
   "source": [
    "print(list(range(1,10)))\n",
    "print(list(range(1,10,2)))"
   ]
  },
  {
   "cell_type": "code",
   "execution_count": 66,
   "metadata": {},
   "outputs": [
    {
     "name": "stdout",
     "output_type": "stream",
     "text": [
      "1\n",
      "2\n",
      "3\n",
      "4\n",
      "5\n",
      "6\n",
      "7\n",
      "8\n",
      "9\n"
     ]
    }
   ],
   "source": [
    "for i in range(1,10):\n",
    "    print(i)"
   ]
  },
  {
   "cell_type": "code",
   "execution_count": 82,
   "metadata": {},
   "outputs": [
    {
     "name": "stdout",
     "output_type": "stream",
     "text": [
      "1 2 3 4 5 6 7 8 9 "
     ]
    },
    {
     "ename": "TypeError",
     "evalue": "list() takes at most 1 argument (2 given)",
     "output_type": "error",
     "traceback": [
      "\u001b[0;31m---------------------------------------------------------------------------\u001b[0m",
      "\u001b[0;31mTypeError\u001b[0m                                 Traceback (most recent call last)",
      "\u001b[0;32m<ipython-input-82-d6daccfeb07e>\u001b[0m in \u001b[0;36m<module>\u001b[0;34m()\u001b[0m\n\u001b[1;32m      1\u001b[0m \u001b[0;32mfor\u001b[0m \u001b[0mi\u001b[0m \u001b[0;32min\u001b[0m \u001b[0mrange\u001b[0m\u001b[0;34m(\u001b[0m\u001b[0;36m1\u001b[0m\u001b[0;34m,\u001b[0m\u001b[0;36m10\u001b[0m\u001b[0;34m)\u001b[0m\u001b[0;34m:\u001b[0m\u001b[0;34m\u001b[0m\u001b[0m\n\u001b[1;32m      2\u001b[0m     \u001b[0mprint\u001b[0m\u001b[0;34m(\u001b[0m\u001b[0mi\u001b[0m\u001b[0;34m,\u001b[0m \u001b[0mend\u001b[0m\u001b[0;34m=\u001b[0m\u001b[0;34m\" \"\u001b[0m\u001b[0;34m)\u001b[0m\u001b[0;34m\u001b[0m\u001b[0m\n\u001b[0;32m----> 3\u001b[0;31m \u001b[0mprint\u001b[0m\u001b[0;34m(\u001b[0m\u001b[0mlist\u001b[0m\u001b[0;34m(\u001b[0m\u001b[0;36m1\u001b[0m\u001b[0;34m,\u001b[0m\u001b[0;36m10\u001b[0m\u001b[0;34m)\u001b[0m\u001b[0;34m)\u001b[0m\u001b[0;34m\u001b[0m\u001b[0m\n\u001b[0m",
      "\u001b[0;31mTypeError\u001b[0m: list() takes at most 1 argument (2 given)"
     ]
    }
   ],
   "source": [
    "for i in range(1,10):\n",
    "    print(i, end=\" \")\n"
   ]
  },
  {
   "cell_type": "code",
   "execution_count": 81,
   "metadata": {},
   "outputs": [
    {
     "name": "stdout",
     "output_type": "stream",
     "text": [
      "[2, 4, 6, 8, 10]  length is 5\n"
     ]
    }
   ],
   "source": [
    "list1=list(range(1,11))\n",
    "evenList=[]\n",
    "for i in list1:\n",
    "    if(i%2==0):\n",
    "        evenList.append(i)\n",
    "print(evenList,\" length is %d\"%(len(evenList)))"
   ]
  },
  {
   "cell_type": "code",
   "execution_count": 98,
   "metadata": {},
   "outputs": [
    {
     "name": "stdout",
     "output_type": "stream",
     "text": [
      "enter the number 0\n",
      "enter the number2\n",
      "enter the number-1\n",
      "enter the number2\n",
      "enter the number3\n",
      "the maxm is 3 the minm is -1\n"
     ]
    }
   ],
   "source": [
    "#example 2\n",
    "list1=[]\n",
    "list2=[]\n",
    "maxm=0\n",
    "minm=int(input(\"enter the number \"))\n",
    "for i in range(4):\n",
    "    #list1.append(int(input(\"enter the %d number\"%(i+1))))\n",
    "    a=int(input(\"enter the number\"))\n",
    "    list2.append(a)\n",
    "    if a>maxm:\n",
    "               maxm=a;\n",
    "    if a<minm:\n",
    "               minm=a;\n",
    "#print(list1, \"max is \"+str(max(list1))+\" min is \"+str(min(list1)))\n",
    "print(\"the maxm is %d the minm is %d\"%(maxm,minm))"
   ]
  },
  {
   "cell_type": "code",
   "execution_count": 99,
   "metadata": {},
   "outputs": [
    {
     "name": "stdout",
     "output_type": "stream",
     "text": [
      "the 1st num is 20\n",
      "the 2nd 10 and 1st num 20  \n"
     ]
    }
   ],
   "source": [
    "#format\n",
    "num1=20\n",
    "num2=10\n",
    "\n",
    "print(\"the 1st num is {0}\".format(num1))\n",
    "print(\"the 2nd {1} and 1st num {0}  \".format(num1,num2))"
   ]
  },
  {
   "cell_type": "markdown",
   "metadata": {},
   "source": [
    "## Functions\n"
   ]
  },
  {
   "cell_type": "code",
   "execution_count": 102,
   "metadata": {},
   "outputs": [
    {
     "name": "stdout",
     "output_type": "stream",
     "text": [
      "P.S Teja\n"
     ]
    }
   ],
   "source": [
    "#make a function to add two no.s\n",
    "\n",
    "def addn(a,b):\n",
    "    print(a+b)\n",
    "addn(\"P.S\",\" Teja\")"
   ]
  },
  {
   "cell_type": "code",
   "execution_count": 11,
   "metadata": {},
   "outputs": [
    {
     "name": "stdout",
     "output_type": "stream",
     "text": [
      "enter the no.s 2.5\n",
      "the maxm is 2.50 minm is 2.50 \n",
      "list is ['2.5'] \n"
     ]
    }
   ],
   "source": [
    "# maxm and minm in function unlimited elements\n",
    "list1=input(\"enter the no.s \").split()\n",
    "maxm=0\n",
    "\n",
    "def findmax(list1):\n",
    "    maxm=0.0\n",
    "    for i in list1:\n",
    "        i=float(i)\n",
    "        if(maxm<i):\n",
    "            maxm=i\n",
    "            \n",
    "    return maxm\n",
    "\n",
    "def findmin(list1):\n",
    "    minm=float(list1[0])\n",
    "    for i in list1:\n",
    "        i=float(i)\n",
    "        if(minm>i):\n",
    "            minm=i\n",
    "            \n",
    "    return minm\n",
    "\n",
    "print(\"the maxm is %.2f minm is %.2f \\nlist is %s \"%(findmax(list1),findmin(list1),list1))"
   ]
  },
  {
   "cell_type": "code",
   "execution_count": 12,
   "metadata": {},
   "outputs": [
    {
     "name": "stdout",
     "output_type": "stream",
     "text": [
      "9\n",
      "8\n"
     ]
    }
   ],
   "source": [
    "# here b is 6 that is the default value in case the value of b is not given by the user.\n",
    "def addn(a,b=6):\n",
    "    print(a+b)\n",
    "addn(3)\n",
    "addn(3,5)"
   ]
  },
  {
   "cell_type": "code",
   "execution_count": 14,
   "metadata": {},
   "outputs": [
    {
     "name": "stdout",
     "output_type": "stream",
     "text": [
      "inside func the value of sum is  12\n",
      "value of sum global is 5 \n",
      " and value of sum from func is 12\n"
     ]
    }
   ],
   "source": [
    "sum1= 5 #outside function\n",
    "def addn(a,b):\n",
    "    sum1=a+b #local\n",
    "    print(\"inside func the value of sum is \",sum1)\n",
    "    return sum1 \n",
    "sum2=addn(5,7)\n",
    "print(\"value of sum global is %d \\n and value of sum from func is %d\"%(sum1,sum2))"
   ]
  },
  {
   "cell_type": "code",
   "execution_count": null,
   "metadata": {},
   "outputs": [],
   "source": []
  }
 ],
 "metadata": {
  "kernelspec": {
   "display_name": "Python 3",
   "language": "python",
   "name": "python3"
  },
  "language_info": {
   "codemirror_mode": {
    "name": "ipython",
    "version": 3
   },
   "file_extension": ".py",
   "mimetype": "text/x-python",
   "name": "python",
   "nbconvert_exporter": "python",
   "pygments_lexer": "ipython3",
   "version": "3.6.5"
  }
 },
 "nbformat": 4,
 "nbformat_minor": 2
}
