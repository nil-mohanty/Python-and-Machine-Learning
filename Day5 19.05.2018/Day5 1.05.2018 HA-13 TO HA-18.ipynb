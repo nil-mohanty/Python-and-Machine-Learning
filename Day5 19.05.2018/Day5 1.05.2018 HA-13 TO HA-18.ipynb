{
 "cells": [
  {
   "cell_type": "markdown",
   "metadata": {},
   "source": [
    "## Day5 1.05.2018 HA-13 TO HA-18"
   ]
  },
  {
   "cell_type": "code",
   "execution_count": 39,
   "metadata": {},
   "outputs": [
    {
     "ename": "SyntaxError",
     "evalue": "invalid syntax (<ipython-input-39-eb1a84be2430>, line 13)",
     "output_type": "error",
     "traceback": [
      "\u001b[1;36m  File \u001b[1;32m\"<ipython-input-39-eb1a84be2430>\"\u001b[1;36m, line \u001b[1;32m13\u001b[0m\n\u001b[1;33m    dict2=dict(map(lambda i:list1[i]:list2[i],range(len(list1))))\u001b[0m\n\u001b[1;37m                                    ^\u001b[0m\n\u001b[1;31mSyntaxError\u001b[0m\u001b[1;31m:\u001b[0m invalid syntax\n"
     ]
    }
   ],
   "source": [
    "#HA-13\n",
    "\"\"\"HA-13.List to dictionary mapping\n",
    "Map 2 lists, one with student name and other with roll number and save it as a dictionary.\n",
    "The output on shell should be:\n",
    "{‘Name1’:‘12a1234’,‘Name2’:‘4567’,‘Name3’:‘12a7890’}\"\"\"\n",
    "dict1={}\n",
    "list1=[\"abc\",\"def\"]\n",
    "list2=[23,45]\n",
    "if(len(list1)==len(list2)):\n",
    "    for i in range(len(list1)):\n",
    "        dict1[list1[i]]=list2[i]\n",
    "print(dict1)\n",
    "dict2=dict(map(lambda i:list1[i]:list2[i],range(len(list1))))\n",
    "print(dict2)"
   ]
  },
  {
   "cell_type": "code",
   "execution_count": 30,
   "metadata": {},
   "outputs": [
    {
     "name": "stdout",
     "output_type": "stream",
     "text": [
      "[1, 2, 4, 8, 16, 32, 64, 128, 256, 512]\n"
     ]
    }
   ],
   "source": [
    "\"\"\"HA-14.Powers of 2\n",
    "Print first 10 powers of 2 using list comprehension.\n",
    "The output on shell should be:\n",
    "[1, 2, 4, 8, 16, 32, 64, 128, 256, 512]\"\"\"\n",
    "\n",
    "list1=[2**i for i in range(10)]\n",
    "print(list1)"
   ]
  },
  {
   "cell_type": "code",
   "execution_count": 32,
   "metadata": {},
   "outputs": [
    {
     "name": "stdout",
     "output_type": "stream",
     "text": [
      "[4, 6, 8, 10]\n"
     ]
    }
   ],
   "source": [
    "\"\"\"HA-15.Addition of elements\n",
    "Add elements in 2 list using map and lambda and print the list..\"\"\"\n",
    "list1=[2,3,4,5]\n",
    "list2=[2,3,4,5]\n",
    "list3=list(map(lambda i: list1[i]+list2[i],range(len(list1))))\n",
    "print(list3)"
   ]
  },
  {
   "cell_type": "code",
   "execution_count": 29,
   "metadata": {},
   "outputs": [
    {
     "name": "stdout",
     "output_type": "stream",
     "text": [
      "['This is a paragraph\\n', 'this is second line\\n', '\\n', 'this is 2nd para.This is a bit long.\\n', 'i Have ded a jus a new line not a para\\n', '\\n', 'this is 3rd paras']\n",
      "this is 2nd para.This is a bit long.\n",
      "i Have ded a jus a new line not a para\n",
      "\n"
     ]
    }
   ],
   "source": [
    "#HA-16\n",
    "\"\"\"HA-16.Second paragraph reading\n",
    "Read a text file and print the second paragraph from the file.\n",
    "The output on shell should be:\n",
    "This sentence is being read from the long text file which consisted of\n",
    "multiple paragraphs. This is the second paragraph.\"\"\"\n",
    "\n",
    "fo=open(\"ha16.txt\",\"r\")\n",
    "lines=fo.readlines()\n",
    "str1=\"\"\n",
    "flag=False\n",
    "print(lines)\n",
    "for i in range(len(lines)):\n",
    "    if(lines[i]==\"\\n\"):\n",
    "        for j in range(i+1,len(lines)):\n",
    "            if(lines[j]!='\\n'):\n",
    "                str1+=lines[j]\n",
    "            else:\n",
    "                flag=True\n",
    "                break;\n",
    "        if(flag):\n",
    "            break;\n",
    "            \n",
    "print(str1)\n",
    "fo.close()"
   ]
  },
  {
   "cell_type": "code",
   "execution_count": 34,
   "metadata": {},
   "outputs": [
    {
     "name": "stdout",
     "output_type": "stream",
     "text": [
      "unhandled\n"
     ]
    }
   ],
   "source": [
    "\"\"\"HA-17.Delay error\n",
    "Take any previous code, add 1 line for 1 second delay and handle the exception you'll get.\"\"\"\n",
    "import time\n",
    "try:\n",
    "    time.sleep(5)\n",
    "    print(\"unhandled\")\n",
    "except DelayedException:\n",
    "    print(\"handled\")"
   ]
  },
  {
   "cell_type": "markdown",
   "metadata": {},
   "source": [
    "HA-18 Simple Data Extraction<br>\n",
    "<br>open the sample python file from this link\n",
    "    <br>https://tinyurl.com/pythontestfile\n",
    "<br>and check the following\n",
    "<br>1. number of imports and print their names\n",
    "<br>2. Number of functions and their names\n",
    "<br>3. Number of lines of codes inside each function\n",
    "<br>4. Number of for loops and while loop condition\n",
    "<br>5. no of if else conditions\n",
    "<br>print all this after reading file"
   ]
  },
  {
   "cell_type": "code",
   "execution_count": 41,
   "metadata": {},
   "outputs": [
    {
     "name": "stdout",
     "output_type": "stream",
     "text": [
      "import count is 4  list is ['getopt', 'sys', 'urllib', 'time']\n",
      "def count is 5  list is ['main', 'Greg2JD', 'QuarterDates', 'GetMetaData', 'usage']\n",
      "for count is 2\n",
      " While count is 0\n",
      " if count is 11\n"
     ]
    }
   ],
   "source": [
    "#HA-18\n",
    "fo=open(\"pythontestfile.txt\",\"r\")\n",
    "full_read=fo.readlines()\n",
    "import_count=0;import_list=[]\n",
    "def_count=0;def_list=[]\n",
    "for_count=0;while_count=0;if_count=0\n",
    "for i in full_read:\n",
    "    i=i.split()\n",
    "    if(\"import\" in i):\n",
    "        import_list.append(i[1])\n",
    "        import_count+=1\n",
    "    elif(\"def\" in i):\n",
    "        def_list.append(i[1].split('(')[0])\n",
    "        def_count+=1\n",
    "    elif(\"for\" in i and i[0]==\"for\"):\n",
    "        for_count+=1\n",
    "    elif(\"while\" in i and \"#\" not in i):\n",
    "        while_count+=1\n",
    "    elif(\"if\" in i and i[0]==\"if\" or \"elif\" in i and i[0]==\"elif\"):\n",
    "        if_count+=1\n",
    "print(\"import count is {0}  list is {1}\".format(import_count,import_list))\n",
    "print(\"def count is {0}  list is {1}\".format(def_count,def_list))\n",
    "print(\"for count is {0}\\n While count is {1}\\n if count is {2}\".format(for_count,while_count,if_count))"
   ]
  },
  {
   "cell_type": "code",
   "execution_count": null,
   "metadata": {},
   "outputs": [],
   "source": []
  }
 ],
 "metadata": {
  "kernelspec": {
   "display_name": "Python 3",
   "language": "python",
   "name": "python3"
  },
  "language_info": {
   "codemirror_mode": {
    "name": "ipython",
    "version": 3
   },
   "file_extension": ".py",
   "mimetype": "text/x-python",
   "name": "python",
   "nbconvert_exporter": "python",
   "pygments_lexer": "ipython3",
   "version": "3.6.4"
  }
 },
 "nbformat": 4,
 "nbformat_minor": 2
}
